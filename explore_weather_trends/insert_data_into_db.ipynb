{
 "cells": [
  {
   "cell_type": "code",
   "execution_count": 5,
   "id": "peripheral-building",
   "metadata": {},
   "outputs": [],
   "source": [
    "from sqlalchemy import create_engine\n",
    "import pandas as pd\n",
    "import os\n",
    "\n",
    "db = os.environ.get('LDB')\n",
    "engine = create_engine(db)\n",
    "\n",
    "cd = pd.read_csv('city_data.csv')\n",
    "cl = pd.read_csv('city_list.csv')\n",
    "gd = pd.read_csv('global_data.csv')\n",
    "\n",
    "#cd.to_sql('city_data', engine)\n",
    "#cl.to_sql('city_list', engine)\n",
    "#gd.to_sql('global_data', engine)"
   ]
  },
  {
   "cell_type": "code",
   "execution_count": 5,
   "id": "lyric-theater",
   "metadata": {},
   "outputs": [],
   "source": [
    "cd.to_sql('city_data', engine)\n",
    "cl.to_sql('city_list', engine)\n",
    "gd.to_sql('global_data', engine)"
   ]
  },
  {
   "cell_type": "code",
   "execution_count": 9,
   "id": "returning-flooring",
   "metadata": {},
   "outputs": [],
   "source": [
    "%load_ext sql"
   ]
  },
  {
   "cell_type": "code",
   "execution_count": null,
   "id": "confused-smile",
   "metadata": {},
   "outputs": [],
   "source": []
  },
  {
   "cell_type": "code",
   "execution_count": 2,
   "id": "neither-lottery",
   "metadata": {},
   "outputs": [],
   "source": [
    "import pandas as pd\n",
    "\n"
   ]
  }
 ],
 "metadata": {
  "kernelspec": {
   "display_name": "Python 3",
   "language": "python",
   "name": "python3"
  },
  "language_info": {
   "codemirror_mode": {
    "name": "ipython",
    "version": 3
   },
   "file_extension": ".py",
   "mimetype": "text/x-python",
   "name": "python",
   "nbconvert_exporter": "python",
   "pygments_lexer": "ipython3",
   "version": "3.8.5"
  }
 },
 "nbformat": 4,
 "nbformat_minor": 5
}
