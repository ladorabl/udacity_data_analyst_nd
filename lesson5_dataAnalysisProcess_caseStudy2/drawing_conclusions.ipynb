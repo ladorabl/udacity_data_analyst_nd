{
 "cells": [
  {
   "cell_type": "markdown",
   "metadata": {
    "collapsed": true
   },
   "source": [
    "# Drawing Conclusions\n",
    "Use the space below to address questions on datasets `clean_08.csv` and `clean_18.csv`. You should've created these data files in the previous section: *Fixing Data Types Pt 3*."
   ]
  },
  {
   "cell_type": "code",
   "execution_count": 1,
   "metadata": {},
   "outputs": [],
   "source": [
    "import seaborn as sns"
   ]
  },
  {
   "cell_type": "code",
   "execution_count": 2,
   "metadata": {},
   "outputs": [],
   "source": [
    "import numpy as np\n",
    "import matplotlib.pyplot as plt\n",
    "import pandas as pd\n",
    "# load datasets\n",
    "\n",
    "df_08 = pd.read_csv('clean_08.csv')\n",
    "df_18 = pd.read_csv('clean_18.csv')"
   ]
  },
  {
   "cell_type": "markdown",
   "metadata": {},
   "source": [
    "### Q1: Are more unique models using alternative sources of fuel? By how much?"
   ]
  },
  {
   "cell_type": "code",
   "execution_count": 3,
   "metadata": {},
   "outputs": [
    {
     "data": {
      "text/plain": [
       "Gasoline    984\n",
       "gas           1\n",
       "CNG           1\n",
       "ethanol       1\n",
       "Name: fuel, dtype: int64"
      ]
     },
     "execution_count": 3,
     "metadata": {},
     "output_type": "execute_result"
    }
   ],
   "source": [
    "df_08.fuel.value_counts()"
   ]
  },
  {
   "cell_type": "code",
   "execution_count": 4,
   "metadata": {},
   "outputs": [
    {
     "data": {
      "text/html": [
       "<div>\n",
       "<style scoped>\n",
       "    .dataframe tbody tr th:only-of-type {\n",
       "        vertical-align: middle;\n",
       "    }\n",
       "\n",
       "    .dataframe tbody tr th {\n",
       "        vertical-align: top;\n",
       "    }\n",
       "\n",
       "    .dataframe thead th {\n",
       "        text-align: right;\n",
       "    }\n",
       "</style>\n",
       "<table border=\"1\" class=\"dataframe\">\n",
       "  <thead>\n",
       "    <tr style=\"text-align: right;\">\n",
       "      <th></th>\n",
       "      <th>model</th>\n",
       "      <th>displ</th>\n",
       "      <th>cyl</th>\n",
       "      <th>trans</th>\n",
       "      <th>drive</th>\n",
       "      <th>fuel</th>\n",
       "      <th>veh_class</th>\n",
       "      <th>air_pollution_score</th>\n",
       "      <th>city_mpg</th>\n",
       "      <th>hwy_mpg</th>\n",
       "      <th>cmb_mpg</th>\n",
       "      <th>greenhouse_gas_score</th>\n",
       "      <th>smartway</th>\n",
       "    </tr>\n",
       "  </thead>\n",
       "  <tbody>\n",
       "    <tr>\n",
       "      <th>388</th>\n",
       "      <td>HONDA Civic</td>\n",
       "      <td>1.8</td>\n",
       "      <td>4</td>\n",
       "      <td>Auto-L5</td>\n",
       "      <td>2WD</td>\n",
       "      <td>CNG</td>\n",
       "      <td>small car</td>\n",
       "      <td>9.5</td>\n",
       "      <td>24.0</td>\n",
       "      <td>36.0</td>\n",
       "      <td>28.0</td>\n",
       "      <td>9</td>\n",
       "      <td>yes</td>\n",
       "    </tr>\n",
       "    <tr>\n",
       "      <th>985</th>\n",
       "      <td>MERCEDES-BENZ C300</td>\n",
       "      <td>3.0</td>\n",
       "      <td>6</td>\n",
       "      <td>Auto-L7</td>\n",
       "      <td>2WD</td>\n",
       "      <td>ethanol</td>\n",
       "      <td>small car</td>\n",
       "      <td>6.0</td>\n",
       "      <td>13.0</td>\n",
       "      <td>19.0</td>\n",
       "      <td>15.0</td>\n",
       "      <td>7</td>\n",
       "      <td>no</td>\n",
       "    </tr>\n",
       "    <tr>\n",
       "      <th>986</th>\n",
       "      <td>MERCEDES-BENZ C300</td>\n",
       "      <td>3.0</td>\n",
       "      <td>6</td>\n",
       "      <td>Auto-L7</td>\n",
       "      <td>2WD</td>\n",
       "      <td>gas</td>\n",
       "      <td>small car</td>\n",
       "      <td>4.0</td>\n",
       "      <td>18.0</td>\n",
       "      <td>25.0</td>\n",
       "      <td>21.0</td>\n",
       "      <td>6</td>\n",
       "      <td>no</td>\n",
       "    </tr>\n",
       "  </tbody>\n",
       "</table>\n",
       "</div>"
      ],
      "text/plain": [
       "                  model  displ  cyl    trans drive     fuel  veh_class  \\\n",
       "388         HONDA Civic    1.8    4  Auto-L5   2WD      CNG  small car   \n",
       "985  MERCEDES-BENZ C300    3.0    6  Auto-L7   2WD  ethanol  small car   \n",
       "986  MERCEDES-BENZ C300    3.0    6  Auto-L7   2WD      gas  small car   \n",
       "\n",
       "     air_pollution_score  city_mpg  hwy_mpg  cmb_mpg  greenhouse_gas_score  \\\n",
       "388                  9.5      24.0     36.0     28.0                     9   \n",
       "985                  6.0      13.0     19.0     15.0                     7   \n",
       "986                  4.0      18.0     25.0     21.0                     6   \n",
       "\n",
       "    smartway  \n",
       "388      yes  \n",
       "985       no  \n",
       "986       no  "
      ]
     },
     "execution_count": 4,
     "metadata": {},
     "output_type": "execute_result"
    }
   ],
   "source": [
    "df_08.query('fuel != \"Gasoline\"')"
   ]
  },
  {
   "cell_type": "code",
   "execution_count": 5,
   "metadata": {},
   "outputs": [
    {
     "data": {
      "text/plain": [
       "model                   37\n",
       "displ                   37\n",
       "cyl                     37\n",
       "trans                   37\n",
       "drive                   37\n",
       "fuel                    37\n",
       "veh_class               37\n",
       "air_pollution_score     37\n",
       "city_mpg                37\n",
       "hwy_mpg                 37\n",
       "cmb_mpg                 37\n",
       "greenhouse_gas_score    37\n",
       "smartway                37\n",
       "dtype: int64"
      ]
     },
     "execution_count": 5,
     "metadata": {},
     "output_type": "execute_result"
    }
   ],
   "source": [
    "df_18.query('fuel != \"Gasoline\"').drop_duplicates(subset='model').count()"
   ]
  },
  {
   "cell_type": "code",
   "execution_count": 6,
   "metadata": {},
   "outputs": [
    {
     "data": {
      "text/plain": [
       "model                   3\n",
       "displ                   3\n",
       "cyl                     3\n",
       "trans                   3\n",
       "drive                   3\n",
       "fuel                    3\n",
       "veh_class               3\n",
       "air_pollution_score     3\n",
       "city_mpg                3\n",
       "hwy_mpg                 3\n",
       "cmb_mpg                 3\n",
       "greenhouse_gas_score    3\n",
       "smartway                3\n",
       "dtype: int64"
      ]
     },
     "execution_count": 6,
     "metadata": {},
     "output_type": "execute_result"
    }
   ],
   "source": [
    "df_08.query('fuel != \"Gasoline\"').count() "
   ]
  },
  {
   "cell_type": "code",
   "execution_count": null,
   "metadata": {},
   "outputs": [],
   "source": []
  },
  {
   "cell_type": "code",
   "execution_count": 7,
   "metadata": {},
   "outputs": [
    {
     "data": {
      "text/plain": [
       "Gasoline       749\n",
       "Gas             26\n",
       "Ethanol         26\n",
       "Diesel          19\n",
       "Electricity     12\n",
       "Name: fuel, dtype: int64"
      ]
     },
     "execution_count": 7,
     "metadata": {},
     "output_type": "execute_result"
    }
   ],
   "source": [
    "df_18.fuel.value_counts()"
   ]
  },
  {
   "cell_type": "code",
   "execution_count": 8,
   "metadata": {},
   "outputs": [
    {
     "data": {
      "text/plain": [
       "832"
      ]
     },
     "execution_count": 8,
     "metadata": {},
     "output_type": "execute_result"
    }
   ],
   "source": [
    "df_18.shape[0]"
   ]
  },
  {
   "cell_type": "markdown",
   "metadata": {},
   "source": [
    "### Q2: How much have vehicle classes improved in fuel economy?  "
   ]
  },
  {
   "cell_type": "code",
   "execution_count": 9,
   "metadata": {},
   "outputs": [
    {
     "data": {
      "text/html": [
       "<div>\n",
       "<style scoped>\n",
       "    .dataframe tbody tr th:only-of-type {\n",
       "        vertical-align: middle;\n",
       "    }\n",
       "\n",
       "    .dataframe tbody tr th {\n",
       "        vertical-align: top;\n",
       "    }\n",
       "\n",
       "    .dataframe thead th {\n",
       "        text-align: right;\n",
       "    }\n",
       "</style>\n",
       "<table border=\"1\" class=\"dataframe\">\n",
       "  <thead>\n",
       "    <tr style=\"text-align: right;\">\n",
       "      <th></th>\n",
       "      <th>city_mpg</th>\n",
       "      <th>hwy_mpg</th>\n",
       "      <th>cmb_mpg</th>\n",
       "    </tr>\n",
       "    <tr>\n",
       "      <th>veh_class</th>\n",
       "      <th></th>\n",
       "      <th></th>\n",
       "      <th></th>\n",
       "    </tr>\n",
       "  </thead>\n",
       "  <tbody>\n",
       "    <tr>\n",
       "      <th>SUV</th>\n",
       "      <td>16.507143</td>\n",
       "      <td>21.935714</td>\n",
       "      <td>18.471429</td>\n",
       "    </tr>\n",
       "    <tr>\n",
       "      <th>large car</th>\n",
       "      <td>15.836364</td>\n",
       "      <td>23.345455</td>\n",
       "      <td>18.509091</td>\n",
       "    </tr>\n",
       "    <tr>\n",
       "      <th>midsize car</th>\n",
       "      <td>18.826087</td>\n",
       "      <td>26.565217</td>\n",
       "      <td>21.601449</td>\n",
       "    </tr>\n",
       "    <tr>\n",
       "      <th>minivan</th>\n",
       "      <td>16.882353</td>\n",
       "      <td>23.705882</td>\n",
       "      <td>19.117647</td>\n",
       "    </tr>\n",
       "    <tr>\n",
       "      <th>pickup</th>\n",
       "      <td>14.578313</td>\n",
       "      <td>19.204819</td>\n",
       "      <td>16.277108</td>\n",
       "    </tr>\n",
       "    <tr>\n",
       "      <th>small car</th>\n",
       "      <td>18.372372</td>\n",
       "      <td>25.963964</td>\n",
       "      <td>21.105105</td>\n",
       "    </tr>\n",
       "    <tr>\n",
       "      <th>station wagon</th>\n",
       "      <td>19.633333</td>\n",
       "      <td>27.116667</td>\n",
       "      <td>22.366667</td>\n",
       "    </tr>\n",
       "    <tr>\n",
       "      <th>van</th>\n",
       "      <td>13.142857</td>\n",
       "      <td>17.333333</td>\n",
       "      <td>14.952381</td>\n",
       "    </tr>\n",
       "  </tbody>\n",
       "</table>\n",
       "</div>"
      ],
      "text/plain": [
       "                city_mpg    hwy_mpg    cmb_mpg\n",
       "veh_class                                     \n",
       "SUV            16.507143  21.935714  18.471429\n",
       "large car      15.836364  23.345455  18.509091\n",
       "midsize car    18.826087  26.565217  21.601449\n",
       "minivan        16.882353  23.705882  19.117647\n",
       "pickup         14.578313  19.204819  16.277108\n",
       "small car      18.372372  25.963964  21.105105\n",
       "station wagon  19.633333  27.116667  22.366667\n",
       "van            13.142857  17.333333  14.952381"
      ]
     },
     "execution_count": 9,
     "metadata": {},
     "output_type": "execute_result"
    }
   ],
   "source": [
    "df_08_gb_vc = df_08.drop(['displ','cyl','air_pollution_score','greenhouse_gas_score'], axis=1).groupby('veh_class').mean()\n",
    "df_08_gb_vc"
   ]
  },
  {
   "cell_type": "code",
   "execution_count": 10,
   "metadata": {},
   "outputs": [
    {
     "data": {
      "text/html": [
       "<div>\n",
       "<style scoped>\n",
       "    .dataframe tbody tr th:only-of-type {\n",
       "        vertical-align: middle;\n",
       "    }\n",
       "\n",
       "    .dataframe tbody tr th {\n",
       "        vertical-align: top;\n",
       "    }\n",
       "\n",
       "    .dataframe thead th {\n",
       "        text-align: right;\n",
       "    }\n",
       "</style>\n",
       "<table border=\"1\" class=\"dataframe\">\n",
       "  <thead>\n",
       "    <tr style=\"text-align: right;\">\n",
       "      <th></th>\n",
       "      <th>city_mpg</th>\n",
       "      <th>hwy_mpg</th>\n",
       "      <th>cmb_mpg</th>\n",
       "    </tr>\n",
       "    <tr>\n",
       "      <th>veh_class</th>\n",
       "      <th></th>\n",
       "      <th></th>\n",
       "      <th></th>\n",
       "    </tr>\n",
       "  </thead>\n",
       "  <tbody>\n",
       "    <tr>\n",
       "      <th>large car</th>\n",
       "      <td>20.420455</td>\n",
       "      <td>28.795455</td>\n",
       "      <td>23.409091</td>\n",
       "    </tr>\n",
       "    <tr>\n",
       "      <th>midsize car</th>\n",
       "      <td>24.862319</td>\n",
       "      <td>33.057971</td>\n",
       "      <td>27.884058</td>\n",
       "    </tr>\n",
       "    <tr>\n",
       "      <th>minivan</th>\n",
       "      <td>18.000000</td>\n",
       "      <td>25.400000</td>\n",
       "      <td>20.800000</td>\n",
       "    </tr>\n",
       "    <tr>\n",
       "      <th>pickup</th>\n",
       "      <td>16.551282</td>\n",
       "      <td>22.012821</td>\n",
       "      <td>18.589744</td>\n",
       "    </tr>\n",
       "    <tr>\n",
       "      <th>small SUV</th>\n",
       "      <td>21.666667</td>\n",
       "      <td>27.879630</td>\n",
       "      <td>24.074074</td>\n",
       "    </tr>\n",
       "    <tr>\n",
       "      <th>small car</th>\n",
       "      <td>22.561404</td>\n",
       "      <td>30.435088</td>\n",
       "      <td>25.421053</td>\n",
       "    </tr>\n",
       "    <tr>\n",
       "      <th>special purpose</th>\n",
       "      <td>16.600000</td>\n",
       "      <td>21.300000</td>\n",
       "      <td>18.500000</td>\n",
       "    </tr>\n",
       "    <tr>\n",
       "      <th>standard SUV</th>\n",
       "      <td>16.011628</td>\n",
       "      <td>21.953488</td>\n",
       "      <td>18.197674</td>\n",
       "    </tr>\n",
       "    <tr>\n",
       "      <th>station wagon</th>\n",
       "      <td>24.705882</td>\n",
       "      <td>32.058824</td>\n",
       "      <td>27.529412</td>\n",
       "    </tr>\n",
       "  </tbody>\n",
       "</table>\n",
       "</div>"
      ],
      "text/plain": [
       "                  city_mpg    hwy_mpg    cmb_mpg\n",
       "veh_class                                       \n",
       "large car        20.420455  28.795455  23.409091\n",
       "midsize car      24.862319  33.057971  27.884058\n",
       "minivan          18.000000  25.400000  20.800000\n",
       "pickup           16.551282  22.012821  18.589744\n",
       "small SUV        21.666667  27.879630  24.074074\n",
       "small car        22.561404  30.435088  25.421053\n",
       "special purpose  16.600000  21.300000  18.500000\n",
       "standard SUV     16.011628  21.953488  18.197674\n",
       "station wagon    24.705882  32.058824  27.529412"
      ]
     },
     "execution_count": 10,
     "metadata": {},
     "output_type": "execute_result"
    }
   ],
   "source": [
    "df_18_gb_vc = df_18.drop(['displ','cyl','air_pollution_score','greenhouse_gas_score'], axis=1).groupby('veh_class').mean()\n",
    "df_18_gb_vc"
   ]
  },
  {
   "cell_type": "code",
   "execution_count": 11,
   "metadata": {},
   "outputs": [
    {
     "data": {
      "text/html": [
       "<div>\n",
       "<style scoped>\n",
       "    .dataframe tbody tr th:only-of-type {\n",
       "        vertical-align: middle;\n",
       "    }\n",
       "\n",
       "    .dataframe tbody tr th {\n",
       "        vertical-align: top;\n",
       "    }\n",
       "\n",
       "    .dataframe thead th {\n",
       "        text-align: right;\n",
       "    }\n",
       "</style>\n",
       "<table border=\"1\" class=\"dataframe\">\n",
       "  <thead>\n",
       "    <tr style=\"text-align: right;\">\n",
       "      <th></th>\n",
       "      <th>city_mpg</th>\n",
       "      <th>hwy_mpg</th>\n",
       "      <th>cmb_mpg</th>\n",
       "    </tr>\n",
       "    <tr>\n",
       "      <th>veh_class</th>\n",
       "      <th></th>\n",
       "      <th></th>\n",
       "      <th></th>\n",
       "    </tr>\n",
       "  </thead>\n",
       "  <tbody>\n",
       "    <tr>\n",
       "      <th>large car</th>\n",
       "      <td>4.584091</td>\n",
       "      <td>5.450000</td>\n",
       "      <td>4.900000</td>\n",
       "    </tr>\n",
       "    <tr>\n",
       "      <th>midsize car</th>\n",
       "      <td>6.036232</td>\n",
       "      <td>6.492754</td>\n",
       "      <td>6.282609</td>\n",
       "    </tr>\n",
       "    <tr>\n",
       "      <th>minivan</th>\n",
       "      <td>1.117647</td>\n",
       "      <td>1.694118</td>\n",
       "      <td>1.682353</td>\n",
       "    </tr>\n",
       "    <tr>\n",
       "      <th>pickup</th>\n",
       "      <td>1.972969</td>\n",
       "      <td>2.808001</td>\n",
       "      <td>2.312635</td>\n",
       "    </tr>\n",
       "    <tr>\n",
       "      <th>small car</th>\n",
       "      <td>4.189031</td>\n",
       "      <td>4.471124</td>\n",
       "      <td>4.315948</td>\n",
       "    </tr>\n",
       "    <tr>\n",
       "      <th>station wagon</th>\n",
       "      <td>5.072549</td>\n",
       "      <td>4.942157</td>\n",
       "      <td>5.162745</td>\n",
       "    </tr>\n",
       "  </tbody>\n",
       "</table>\n",
       "</div>"
      ],
      "text/plain": [
       "               city_mpg   hwy_mpg   cmb_mpg\n",
       "veh_class                                  \n",
       "large car      4.584091  5.450000  4.900000\n",
       "midsize car    6.036232  6.492754  6.282609\n",
       "minivan        1.117647  1.694118  1.682353\n",
       "pickup         1.972969  2.808001  2.312635\n",
       "small car      4.189031  4.471124  4.315948\n",
       "station wagon  5.072549  4.942157  5.162745"
      ]
     },
     "execution_count": 11,
     "metadata": {},
     "output_type": "execute_result"
    }
   ],
   "source": [
    "matching_indices = df_08_gb_vc.index.intersection(df_18_gb_vc.index)\n",
    "df_18_gb_vc[df_18_gb_vc.index.isin(matching_indices)] - df_08_gb_vc[df_08_gb_vc.index.isin(matching_indices)] "
   ]
  },
  {
   "cell_type": "code",
   "execution_count": 12,
   "metadata": {},
   "outputs": [
    {
     "data": {
      "text/html": [
       "<div>\n",
       "<style scoped>\n",
       "    .dataframe tbody tr th:only-of-type {\n",
       "        vertical-align: middle;\n",
       "    }\n",
       "\n",
       "    .dataframe tbody tr th {\n",
       "        vertical-align: top;\n",
       "    }\n",
       "\n",
       "    .dataframe thead th {\n",
       "        text-align: right;\n",
       "    }\n",
       "</style>\n",
       "<table border=\"1\" class=\"dataframe\">\n",
       "  <thead>\n",
       "    <tr style=\"text-align: right;\">\n",
       "      <th></th>\n",
       "      <th>city_mpg</th>\n",
       "      <th>hwy_mpg</th>\n",
       "      <th>cmb_mpg</th>\n",
       "    </tr>\n",
       "    <tr>\n",
       "      <th>veh_class</th>\n",
       "      <th></th>\n",
       "      <th></th>\n",
       "      <th></th>\n",
       "    </tr>\n",
       "  </thead>\n",
       "  <tbody>\n",
       "    <tr>\n",
       "      <th>SUV</th>\n",
       "      <td>16.507143</td>\n",
       "      <td>21.935714</td>\n",
       "      <td>18.471429</td>\n",
       "    </tr>\n",
       "  </tbody>\n",
       "</table>\n",
       "</div>"
      ],
      "text/plain": [
       "            city_mpg    hwy_mpg    cmb_mpg\n",
       "veh_class                                 \n",
       "SUV        16.507143  21.935714  18.471429"
      ]
     },
     "execution_count": 12,
     "metadata": {},
     "output_type": "execute_result"
    }
   ],
   "source": [
    "df_08_gb_vc[df_08_gb_vc.index.str.contains('SUV')]"
   ]
  },
  {
   "cell_type": "code",
   "execution_count": 13,
   "metadata": {},
   "outputs": [
    {
     "data": {
      "text/html": [
       "<div>\n",
       "<style scoped>\n",
       "    .dataframe tbody tr th:only-of-type {\n",
       "        vertical-align: middle;\n",
       "    }\n",
       "\n",
       "    .dataframe tbody tr th {\n",
       "        vertical-align: top;\n",
       "    }\n",
       "\n",
       "    .dataframe thead th {\n",
       "        text-align: right;\n",
       "    }\n",
       "</style>\n",
       "<table border=\"1\" class=\"dataframe\">\n",
       "  <thead>\n",
       "    <tr style=\"text-align: right;\">\n",
       "      <th></th>\n",
       "      <th>city_mpg</th>\n",
       "      <th>hwy_mpg</th>\n",
       "      <th>cmb_mpg</th>\n",
       "    </tr>\n",
       "    <tr>\n",
       "      <th>veh_class</th>\n",
       "      <th></th>\n",
       "      <th></th>\n",
       "      <th></th>\n",
       "    </tr>\n",
       "  </thead>\n",
       "  <tbody>\n",
       "    <tr>\n",
       "      <th>small SUV</th>\n",
       "      <td>21.666667</td>\n",
       "      <td>27.879630</td>\n",
       "      <td>24.074074</td>\n",
       "    </tr>\n",
       "    <tr>\n",
       "      <th>standard SUV</th>\n",
       "      <td>16.011628</td>\n",
       "      <td>21.953488</td>\n",
       "      <td>18.197674</td>\n",
       "    </tr>\n",
       "  </tbody>\n",
       "</table>\n",
       "</div>"
      ],
      "text/plain": [
       "               city_mpg    hwy_mpg    cmb_mpg\n",
       "veh_class                                    \n",
       "small SUV     21.666667  27.879630  24.074074\n",
       "standard SUV  16.011628  21.953488  18.197674"
      ]
     },
     "execution_count": 13,
     "metadata": {},
     "output_type": "execute_result"
    }
   ],
   "source": [
    "df_18_gb_vc[df_18_gb_vc.index.str.contains('SUV')]"
   ]
  },
  {
   "cell_type": "code",
   "execution_count": 14,
   "metadata": {},
   "outputs": [
    {
     "data": {
      "text/html": [
       "<div>\n",
       "<style scoped>\n",
       "    .dataframe tbody tr th:only-of-type {\n",
       "        vertical-align: middle;\n",
       "    }\n",
       "\n",
       "    .dataframe tbody tr th {\n",
       "        vertical-align: top;\n",
       "    }\n",
       "\n",
       "    .dataframe thead th {\n",
       "        text-align: right;\n",
       "    }\n",
       "</style>\n",
       "<table border=\"1\" class=\"dataframe\">\n",
       "  <thead>\n",
       "    <tr style=\"text-align: right;\">\n",
       "      <th></th>\n",
       "      <th>city_mpg</th>\n",
       "      <th>hwy_mpg</th>\n",
       "      <th>cmb_mpg</th>\n",
       "    </tr>\n",
       "    <tr>\n",
       "      <th>veh_class</th>\n",
       "      <th></th>\n",
       "      <th></th>\n",
       "      <th></th>\n",
       "    </tr>\n",
       "  </thead>\n",
       "  <tbody>\n",
       "    <tr>\n",
       "      <th>SUV</th>\n",
       "      <td>-0.495515</td>\n",
       "      <td>0.017774</td>\n",
       "      <td>-0.273754</td>\n",
       "    </tr>\n",
       "  </tbody>\n",
       "</table>\n",
       "</div>"
      ],
      "text/plain": [
       "           city_mpg   hwy_mpg   cmb_mpg\n",
       "veh_class                              \n",
       "SUV       -0.495515  0.017774 -0.273754"
      ]
     },
     "execution_count": 14,
     "metadata": {},
     "output_type": "execute_result"
    }
   ],
   "source": [
    "df_18_gb_suv =  df_18_gb_vc.query(\"veh_class == 'standard SUV'\").rename(index={'standard SUV' : 'SUV'})\n",
    "df_18_gb_suv - df_08_gb_vc[df_08_gb_vc.index.str.contains('SUV')]"
   ]
  },
  {
   "cell_type": "code",
   "execution_count": 15,
   "metadata": {},
   "outputs": [
    {
     "data": {
      "text/html": [
       "<div>\n",
       "<style scoped>\n",
       "    .dataframe tbody tr th:only-of-type {\n",
       "        vertical-align: middle;\n",
       "    }\n",
       "\n",
       "    .dataframe tbody tr th {\n",
       "        vertical-align: top;\n",
       "    }\n",
       "\n",
       "    .dataframe thead th {\n",
       "        text-align: right;\n",
       "    }\n",
       "</style>\n",
       "<table border=\"1\" class=\"dataframe\">\n",
       "  <thead>\n",
       "    <tr style=\"text-align: right;\">\n",
       "      <th></th>\n",
       "      <th>city_mpg</th>\n",
       "      <th>hwy_mpg</th>\n",
       "      <th>cmb_mpg</th>\n",
       "    </tr>\n",
       "    <tr>\n",
       "      <th>veh_class</th>\n",
       "      <th></th>\n",
       "      <th></th>\n",
       "      <th></th>\n",
       "    </tr>\n",
       "  </thead>\n",
       "  <tbody>\n",
       "    <tr>\n",
       "      <th>SUV</th>\n",
       "      <td>2.332004</td>\n",
       "      <td>2.980845</td>\n",
       "      <td>2.664446</td>\n",
       "    </tr>\n",
       "  </tbody>\n",
       "</table>\n",
       "</div>"
      ],
      "text/plain": [
       "           city_mpg   hwy_mpg   cmb_mpg\n",
       "veh_class                              \n",
       "SUV        2.332004  2.980845  2.664446"
      ]
     },
     "execution_count": 15,
     "metadata": {},
     "output_type": "execute_result"
    }
   ],
   "source": [
    "ser_18_gb_vc_SUV_mean = df_18_gb_vc[df_18_gb_vc.index.str.contains('SUV')].mean(axis=0)\n",
    "df_18_mean_SUV = pd.DataFrame(ser_18_gb_vc_SUV_mean).transpose()\n",
    "df_18_mean_SUV.index.name = 'veh_class'\n",
    "df_18_mean_SUV.rename(index={0:'SUV'}, inplace=True)\n",
    "df_18_mean_SUV - df_08_gb_vc[df_08_gb_vc.index.str.contains('SUV')]"
   ]
  },
  {
   "cell_type": "code",
   "execution_count": 16,
   "metadata": {},
   "outputs": [
    {
     "data": {
      "image/png": "[encoded data removed]",
      "text/plain": [
       "<matplotlib.figure.Figure at 0x7fdeaefe74e0>"
      ]
     },
     "metadata": {
      "needs_background": "light"
     },
     "output_type": "display_data"
    },
    {
     "data": {
      "image/png": "[encoded data removed]",
      "text/plain": [
       "<matplotlib.figure.Figure at 0x7fdeacf2ce80>"
      ]
     },
     "metadata": {
      "needs_background": "light"
     },
     "output_type": "display_data"
    }
   ],
   "source": [
    "df_08_gb_vc[df_08_gb_vc.index.isin(matching_indices)].plot.bar();\n",
    "\n",
    "df_18_gb_vc[df_18_gb_vc.index.isin(matching_indices)].plot.bar();"
   ]
  },
  {
   "cell_type": "code",
   "execution_count": 17,
   "metadata": {},
   "outputs": [
    {
     "data": {
      "text/html": [
       "<div>\n",
       "<style scoped>\n",
       "    .dataframe tbody tr th:only-of-type {\n",
       "        vertical-align: middle;\n",
       "    }\n",
       "\n",
       "    .dataframe tbody tr th {\n",
       "        vertical-align: top;\n",
       "    }\n",
       "\n",
       "    .dataframe thead th {\n",
       "        text-align: right;\n",
       "    }\n",
       "</style>\n",
       "<table border=\"1\" class=\"dataframe\">\n",
       "  <thead>\n",
       "    <tr style=\"text-align: right;\">\n",
       "      <th></th>\n",
       "      <th>city_mpg</th>\n",
       "      <th>hwy_mpg</th>\n",
       "      <th>cmb_mpg</th>\n",
       "    </tr>\n",
       "    <tr>\n",
       "      <th>veh_class</th>\n",
       "      <th></th>\n",
       "      <th></th>\n",
       "      <th></th>\n",
       "    </tr>\n",
       "  </thead>\n",
       "  <tbody>\n",
       "    <tr>\n",
       "      <th>SUV</th>\n",
       "      <td>2.332004</td>\n",
       "      <td>2.980845</td>\n",
       "      <td>2.664446</td>\n",
       "    </tr>\n",
       "  </tbody>\n",
       "</table>\n",
       "</div>"
      ],
      "text/plain": [
       "           city_mpg   hwy_mpg   cmb_mpg\n",
       "veh_class                              \n",
       "SUV        2.332004  2.980845  2.664446"
      ]
     },
     "execution_count": 17,
     "metadata": {},
     "output_type": "execute_result"
    }
   ],
   "source": [
    "df_18_mean_SUV - df_08_gb_vc[df_08_gb_vc.index.str.contains('SUV')]"
   ]
  },
  {
   "cell_type": "code",
   "execution_count": 18,
   "metadata": {},
   "outputs": [
    {
     "data": {
      "image/png": "[encoded data removed]",
      "text/plain": [
       "<matplotlib.figure.Figure at 0x7fdeace785f8>"
      ]
     },
     "metadata": {
      "needs_background": "light"
     },
     "output_type": "display_data"
    },
    {
     "data": {
      "image/png": "[encoded data removed]",
      "text/plain": [
       "<matplotlib.figure.Figure at 0x7fdeace34518>"
      ]
     },
     "metadata": {
      "needs_background": "light"
     },
     "output_type": "display_data"
    },
    {
     "data": {
      "image/png": "[encoded data removed]",
      "text/plain": [
       "<matplotlib.figure.Figure at 0x7fdeacd75198>"
      ]
     },
     "metadata": {
      "needs_background": "light"
     },
     "output_type": "display_data"
    }
   ],
   "source": [
    "from matplotlib.pyplot import figure\n",
    "figure(figsize=(10, 4))\n",
    "#df_08_gb_vc[df_08_gb_vc.index == 'large car'].plot.bar();\n",
    "#df_18_gb_vc[df_18_gb_vc.index == 'large car'].plot.bar();\n",
    "\n",
    "t1 = df_08_gb_vc[df_08_gb_vc.index.isin(matching_indices)] \n",
    "t1 = t1.append(df_08_gb_vc[df_08_gb_vc.index.str.contains('SUV')])\n",
    "#[df_08_gb_vc.index == 'large car']\n",
    "t2 = df_18_gb_vc[df_18_gb_vc.index.isin(matching_indices)]\n",
    "t2 = t2.append(df_18_mean_SUV)\n",
    "#[df_18_gb_vc.index == 'large car']\n",
    "\n",
    "plt.title('City MPG')\n",
    "plt.bar(t2.index, t2.city_mpg);\n",
    "plt.bar(t1.index, t1.city_mpg);\n",
    "plt.legend(['2018','2008'])\n",
    "plt.show()\n",
    "\n",
    "figure(figsize=(10, 4))\n",
    "plt.title('Highway MPG')\n",
    "plt.bar(t2.index, t2.hwy_mpg);\n",
    "plt.bar(t1.index, t1.hwy_mpg);\n",
    "plt.legend(['2018','2008'])\n",
    "plt.show()\n",
    "figure(figsize=(10, 4))\n",
    "plt.title('Combined MPG')\n",
    "plt.bar(t2.index, t2.cmb_mpg);\n",
    "plt.bar(t1.index, t1.cmb_mpg);\n",
    "plt.legend(['2018','2008'])\n",
    "plt.show()\n",
    "\n",
    "#sns.barplot(x=t1.index, y=t2.columns.values);\n",
    "#sns.barplot(x=t2.index');\n",
    "#t2.index.values\n",
    "#t2.columns.values\n",
    "#plt.bar(t2.index, t2);\n",
    "#plt.bar(t1.index, t1.cmb_mpg);"
   ]
  },
  {
   "cell_type": "code",
   "execution_count": null,
   "metadata": {
    "scrolled": true
   },
   "outputs": [],
   "source": []
  },
  {
   "cell_type": "code",
   "execution_count": 19,
   "metadata": {
    "scrolled": false
   },
   "outputs": [
    {
     "data": {
      "image/png": "[encoded data removed]",
      "text/plain": [
       "<matplotlib.figure.Figure at 0x7fdeacd24cf8>"
      ]
     },
     "metadata": {
      "needs_background": "light"
     },
     "output_type": "display_data"
    }
   ],
   "source": [
    "veh_08 = df_08.groupby('veh_class')[['city_mpg','hwy_mpg','cmb_mpg']].mean().reset_index()\n",
    "df = pd.melt(veh_08, id_vars=['veh_class'], value_vars=['city_mpg','hwy_mpg','cmb_mpg'])\n",
    "df['year']=2008\n",
    "\n",
    "veh_18 = df_18.groupby('veh_class')[['city_mpg','hwy_mpg','cmb_mpg']].mean().reset_index()\n",
    "df2 = pd.melt(veh_18, id_vars=['veh_class'], value_vars=['city_mpg','hwy_mpg','cmb_mpg'])\n",
    "df2['year']=2018\n",
    "\n",
    "df = pd.concat([df,df2])\n",
    "#df3 = df.groupby(['veh_class','variable']).sum().reset_index()\n",
    "#df3['year'] = 'combined'\n",
    "#df = pd.concat([df,df3])\n",
    "df.sort_values(by=['veh_class','variable','year'], inplace=True)\n",
    "df\n",
    "\n",
    "plt.figure(figsize=(14,6));\n",
    "veh = 'station wagon'\n",
    "veh2 = 'pickup'\n",
    "veh3 = 'small car'\n",
    "veh4_08 = 'SUV'\n",
    "veh4_18 = 'standard SUV'\n",
    "#ax = sns.barplot(x='veh_class', y='value', hue='variable', data=df[(df['year']==2008) & ((df.veh_class == veh) | (df.veh_class == veh2) | (df.veh_class == veh3) | (df.veh_class == veh4_08))], alpha=1);\n",
    "#ax = sns.barplot(x='veh_class', y='value', hue='variable', data=df[(df['year']==2018) & ((df.veh_class == veh) | (df.veh_class == veh2) | (df.veh_class == veh3) | (df.veh_class == veh4_18))], alpha=.5);\n",
    "#ax = sns.barplot(x='veh_class', y='value', hue='variable', data=df[(df['year']==2018)], alpha=.5);\n",
    "#ax = sns.barplot(x='veh_class', y='value', hue='variable', data=df[(df['year']==2008)], alpha=1);\n",
    "\n",
    "plt.xticks(rotation=30);"
   ]
  },
  {
   "cell_type": "code",
   "execution_count": 20,
   "metadata": {},
   "outputs": [
    {
     "data": {
      "text/html": [
       "<div>\n",
       "<style scoped>\n",
       "    .dataframe tbody tr th:only-of-type {\n",
       "        vertical-align: middle;\n",
       "    }\n",
       "\n",
       "    .dataframe tbody tr th {\n",
       "        vertical-align: top;\n",
       "    }\n",
       "\n",
       "    .dataframe thead th {\n",
       "        text-align: right;\n",
       "    }\n",
       "</style>\n",
       "<table border=\"1\" class=\"dataframe\">\n",
       "  <thead>\n",
       "    <tr style=\"text-align: right;\">\n",
       "      <th></th>\n",
       "      <th>veh_class</th>\n",
       "      <th>variable</th>\n",
       "      <th>value</th>\n",
       "      <th>year</th>\n",
       "    </tr>\n",
       "  </thead>\n",
       "  <tbody>\n",
       "    <tr>\n",
       "      <th>0</th>\n",
       "      <td>SUV</td>\n",
       "      <td>city_mpg</td>\n",
       "      <td>16.507143</td>\n",
       "      <td>2008</td>\n",
       "    </tr>\n",
       "    <tr>\n",
       "      <th>16</th>\n",
       "      <td>SUV</td>\n",
       "      <td>cmb_mpg</td>\n",
       "      <td>18.471429</td>\n",
       "      <td>2008</td>\n",
       "    </tr>\n",
       "    <tr>\n",
       "      <th>8</th>\n",
       "      <td>SUV</td>\n",
       "      <td>hwy_mpg</td>\n",
       "      <td>21.935714</td>\n",
       "      <td>2008</td>\n",
       "    </tr>\n",
       "    <tr>\n",
       "      <th>1</th>\n",
       "      <td>large car</td>\n",
       "      <td>city_mpg</td>\n",
       "      <td>15.836364</td>\n",
       "      <td>2008</td>\n",
       "    </tr>\n",
       "    <tr>\n",
       "      <th>17</th>\n",
       "      <td>large car</td>\n",
       "      <td>cmb_mpg</td>\n",
       "      <td>18.509091</td>\n",
       "      <td>2008</td>\n",
       "    </tr>\n",
       "    <tr>\n",
       "      <th>9</th>\n",
       "      <td>large car</td>\n",
       "      <td>hwy_mpg</td>\n",
       "      <td>23.345455</td>\n",
       "      <td>2008</td>\n",
       "    </tr>\n",
       "    <tr>\n",
       "      <th>2</th>\n",
       "      <td>midsize car</td>\n",
       "      <td>city_mpg</td>\n",
       "      <td>18.826087</td>\n",
       "      <td>2008</td>\n",
       "    </tr>\n",
       "    <tr>\n",
       "      <th>18</th>\n",
       "      <td>midsize car</td>\n",
       "      <td>cmb_mpg</td>\n",
       "      <td>21.601449</td>\n",
       "      <td>2008</td>\n",
       "    </tr>\n",
       "    <tr>\n",
       "      <th>10</th>\n",
       "      <td>midsize car</td>\n",
       "      <td>hwy_mpg</td>\n",
       "      <td>26.565217</td>\n",
       "      <td>2008</td>\n",
       "    </tr>\n",
       "    <tr>\n",
       "      <th>3</th>\n",
       "      <td>minivan</td>\n",
       "      <td>city_mpg</td>\n",
       "      <td>16.882353</td>\n",
       "      <td>2008</td>\n",
       "    </tr>\n",
       "    <tr>\n",
       "      <th>19</th>\n",
       "      <td>minivan</td>\n",
       "      <td>cmb_mpg</td>\n",
       "      <td>19.117647</td>\n",
       "      <td>2008</td>\n",
       "    </tr>\n",
       "    <tr>\n",
       "      <th>11</th>\n",
       "      <td>minivan</td>\n",
       "      <td>hwy_mpg</td>\n",
       "      <td>23.705882</td>\n",
       "      <td>2008</td>\n",
       "    </tr>\n",
       "    <tr>\n",
       "      <th>4</th>\n",
       "      <td>pickup</td>\n",
       "      <td>city_mpg</td>\n",
       "      <td>14.578313</td>\n",
       "      <td>2008</td>\n",
       "    </tr>\n",
       "    <tr>\n",
       "      <th>20</th>\n",
       "      <td>pickup</td>\n",
       "      <td>cmb_mpg</td>\n",
       "      <td>16.277108</td>\n",
       "      <td>2008</td>\n",
       "    </tr>\n",
       "    <tr>\n",
       "      <th>12</th>\n",
       "      <td>pickup</td>\n",
       "      <td>hwy_mpg</td>\n",
       "      <td>19.204819</td>\n",
       "      <td>2008</td>\n",
       "    </tr>\n",
       "    <tr>\n",
       "      <th>5</th>\n",
       "      <td>small car</td>\n",
       "      <td>city_mpg</td>\n",
       "      <td>18.372372</td>\n",
       "      <td>2008</td>\n",
       "    </tr>\n",
       "    <tr>\n",
       "      <th>21</th>\n",
       "      <td>small car</td>\n",
       "      <td>cmb_mpg</td>\n",
       "      <td>21.105105</td>\n",
       "      <td>2008</td>\n",
       "    </tr>\n",
       "    <tr>\n",
       "      <th>13</th>\n",
       "      <td>small car</td>\n",
       "      <td>hwy_mpg</td>\n",
       "      <td>25.963964</td>\n",
       "      <td>2008</td>\n",
       "    </tr>\n",
       "    <tr>\n",
       "      <th>6</th>\n",
       "      <td>station wagon</td>\n",
       "      <td>city_mpg</td>\n",
       "      <td>19.633333</td>\n",
       "      <td>2008</td>\n",
       "    </tr>\n",
       "    <tr>\n",
       "      <th>22</th>\n",
       "      <td>station wagon</td>\n",
       "      <td>cmb_mpg</td>\n",
       "      <td>22.366667</td>\n",
       "      <td>2008</td>\n",
       "    </tr>\n",
       "    <tr>\n",
       "      <th>14</th>\n",
       "      <td>station wagon</td>\n",
       "      <td>hwy_mpg</td>\n",
       "      <td>27.116667</td>\n",
       "      <td>2008</td>\n",
       "    </tr>\n",
       "    <tr>\n",
       "      <th>7</th>\n",
       "      <td>van</td>\n",
       "      <td>city_mpg</td>\n",
       "      <td>13.142857</td>\n",
       "      <td>2008</td>\n",
       "    </tr>\n",
       "    <tr>\n",
       "      <th>23</th>\n",
       "      <td>van</td>\n",
       "      <td>cmb_mpg</td>\n",
       "      <td>14.952381</td>\n",
       "      <td>2008</td>\n",
       "    </tr>\n",
       "    <tr>\n",
       "      <th>15</th>\n",
       "      <td>van</td>\n",
       "      <td>hwy_mpg</td>\n",
       "      <td>17.333333</td>\n",
       "      <td>2008</td>\n",
       "    </tr>\n",
       "  </tbody>\n",
       "</table>\n",
       "</div>"
      ],
      "text/plain": [
       "        veh_class  variable      value  year\n",
       "0             SUV  city_mpg  16.507143  2008\n",
       "16            SUV   cmb_mpg  18.471429  2008\n",
       "8             SUV   hwy_mpg  21.935714  2008\n",
       "1       large car  city_mpg  15.836364  2008\n",
       "17      large car   cmb_mpg  18.509091  2008\n",
       "9       large car   hwy_mpg  23.345455  2008\n",
       "2     midsize car  city_mpg  18.826087  2008\n",
       "18    midsize car   cmb_mpg  21.601449  2008\n",
       "10    midsize car   hwy_mpg  26.565217  2008\n",
       "3         minivan  city_mpg  16.882353  2008\n",
       "19        minivan   cmb_mpg  19.117647  2008\n",
       "11        minivan   hwy_mpg  23.705882  2008\n",
       "4          pickup  city_mpg  14.578313  2008\n",
       "20         pickup   cmb_mpg  16.277108  2008\n",
       "12         pickup   hwy_mpg  19.204819  2008\n",
       "5       small car  city_mpg  18.372372  2008\n",
       "21      small car   cmb_mpg  21.105105  2008\n",
       "13      small car   hwy_mpg  25.963964  2008\n",
       "6   station wagon  city_mpg  19.633333  2008\n",
       "22  station wagon   cmb_mpg  22.366667  2008\n",
       "14  station wagon   hwy_mpg  27.116667  2008\n",
       "7             van  city_mpg  13.142857  2008\n",
       "23            van   cmb_mpg  14.952381  2008\n",
       "15            van   hwy_mpg  17.333333  2008"
      ]
     },
     "execution_count": 20,
     "metadata": {},
     "output_type": "execute_result"
    }
   ],
   "source": [
    "df[df.year == 2008]"
   ]
  },
  {
   "cell_type": "markdown",
   "metadata": {},
   "source": [
    "### Q3: What are the characteristics of SmartWay vehicles? Have they changed over time?"
   ]
  },
  {
   "cell_type": "markdown",
   "metadata": {
    "collapsed": true
   },
   "source": [
    "According to the following documentations:\n",
    "2008 rating     \n",
    "Vehicles that get a combined score of ≥ 18 (minimum GHG score = 9; minimum air pollution score = 9)\n",
    "Vehicles that get a combined score of ≥ 13 (minimum GHG score = 6; minimum air pollution score = 6)\n",
    "\n",
    "2018\n",
    "For vehicles that get a minimum GHG rating = 10; minimum smog rating = 7\n",
    "For vehicles that get a minimum GHG rating = 7; minimum smog rating = 3\n",
    "\n",
    "\n",
    "https://nepis.epa.gov/Exe/ZyPDF.cgi?Dockey=P100FZHT.pdf \n",
    "https://nepis.epa.gov/Exe/ZyPDF.cgi?Dockey=P100TWV5.pdf\n",
    "\n"
   ]
  },
  {
   "cell_type": "code",
   "execution_count": 21,
   "metadata": {
    "scrolled": true
   },
   "outputs": [
    {
     "data": {
      "text/html": [
       "<div>\n",
       "<style scoped>\n",
       "    .dataframe tbody tr th:only-of-type {\n",
       "        vertical-align: middle;\n",
       "    }\n",
       "\n",
       "    .dataframe tbody tr th {\n",
       "        vertical-align: top;\n",
       "    }\n",
       "\n",
       "    .dataframe thead th {\n",
       "        text-align: right;\n",
       "    }\n",
       "</style>\n",
       "<table border=\"1\" class=\"dataframe\">\n",
       "  <thead>\n",
       "    <tr style=\"text-align: right;\">\n",
       "      <th></th>\n",
       "      <th>model</th>\n",
       "      <th>displ</th>\n",
       "      <th>cyl</th>\n",
       "      <th>trans</th>\n",
       "      <th>drive</th>\n",
       "      <th>fuel</th>\n",
       "      <th>veh_class</th>\n",
       "      <th>air_pollution_score</th>\n",
       "      <th>city_mpg</th>\n",
       "      <th>hwy_mpg</th>\n",
       "      <th>cmb_mpg</th>\n",
       "      <th>greenhouse_gas_score</th>\n",
       "      <th>smartway</th>\n",
       "    </tr>\n",
       "  </thead>\n",
       "  <tbody>\n",
       "    <tr>\n",
       "      <th>378</th>\n",
       "      <td>HONDA Accord</td>\n",
       "      <td>3.5</td>\n",
       "      <td>6</td>\n",
       "      <td>Auto-L5</td>\n",
       "      <td>2WD</td>\n",
       "      <td>Gasoline</td>\n",
       "      <td>small car</td>\n",
       "      <td>9.5</td>\n",
       "      <td>19.0</td>\n",
       "      <td>28.0</td>\n",
       "      <td>22.0</td>\n",
       "      <td>6</td>\n",
       "      <td>yes</td>\n",
       "    </tr>\n",
       "    <tr>\n",
       "      <th>826</th>\n",
       "      <td>SUBARU Legacy</td>\n",
       "      <td>2.5</td>\n",
       "      <td>4</td>\n",
       "      <td>Man-5</td>\n",
       "      <td>4WD</td>\n",
       "      <td>Gasoline</td>\n",
       "      <td>small car</td>\n",
       "      <td>9.5</td>\n",
       "      <td>20.0</td>\n",
       "      <td>27.0</td>\n",
       "      <td>22.0</td>\n",
       "      <td>6</td>\n",
       "      <td>yes</td>\n",
       "    </tr>\n",
       "    <tr>\n",
       "      <th>674</th>\n",
       "      <td>NISSAN Altima</td>\n",
       "      <td>2.5</td>\n",
       "      <td>4</td>\n",
       "      <td>Auto-AV</td>\n",
       "      <td>2WD</td>\n",
       "      <td>Gasoline</td>\n",
       "      <td>small car</td>\n",
       "      <td>6.0</td>\n",
       "      <td>23.0</td>\n",
       "      <td>31.0</td>\n",
       "      <td>26.0</td>\n",
       "      <td>8</td>\n",
       "      <td>yes</td>\n",
       "    </tr>\n",
       "  </tbody>\n",
       "</table>\n",
       "</div>"
      ],
      "text/plain": [
       "             model  displ  cyl    trans drive      fuel  veh_class  \\\n",
       "378   HONDA Accord    3.5    6  Auto-L5   2WD  Gasoline  small car   \n",
       "826  SUBARU Legacy    2.5    4    Man-5   4WD  Gasoline  small car   \n",
       "674  NISSAN Altima    2.5    4  Auto-AV   2WD  Gasoline  small car   \n",
       "\n",
       "     air_pollution_score  city_mpg  hwy_mpg  cmb_mpg  greenhouse_gas_score  \\\n",
       "378                  9.5      19.0     28.0     22.0                     6   \n",
       "826                  9.5      20.0     27.0     22.0                     6   \n",
       "674                  6.0      23.0     31.0     26.0                     8   \n",
       "\n",
       "    smartway  \n",
       "378      yes  \n",
       "826      yes  \n",
       "674      yes  "
      ]
     },
     "execution_count": 21,
     "metadata": {},
     "output_type": "execute_result"
    }
   ],
   "source": [
    "df08_sw = df_08.query('smartway != \"no\"')\n",
    "df08_sw.sample(3)"
   ]
  },
  {
   "cell_type": "code",
   "execution_count": 22,
   "metadata": {
    "scrolled": true
   },
   "outputs": [
    {
     "data": {
      "text/html": [
       "<div>\n",
       "<style scoped>\n",
       "    .dataframe tbody tr th:only-of-type {\n",
       "        vertical-align: middle;\n",
       "    }\n",
       "\n",
       "    .dataframe tbody tr th {\n",
       "        vertical-align: top;\n",
       "    }\n",
       "\n",
       "    .dataframe thead th {\n",
       "        text-align: right;\n",
       "    }\n",
       "</style>\n",
       "<table border=\"1\" class=\"dataframe\">\n",
       "  <thead>\n",
       "    <tr style=\"text-align: right;\">\n",
       "      <th></th>\n",
       "      <th>model</th>\n",
       "      <th>displ</th>\n",
       "      <th>cyl</th>\n",
       "      <th>trans</th>\n",
       "      <th>drive</th>\n",
       "      <th>fuel</th>\n",
       "      <th>veh_class</th>\n",
       "      <th>air_pollution_score</th>\n",
       "      <th>city_mpg</th>\n",
       "      <th>hwy_mpg</th>\n",
       "      <th>cmb_mpg</th>\n",
       "      <th>greenhouse_gas_score</th>\n",
       "      <th>smartway</th>\n",
       "    </tr>\n",
       "  </thead>\n",
       "  <tbody>\n",
       "    <tr>\n",
       "      <th>792</th>\n",
       "      <td>VOLVO XC 60</td>\n",
       "      <td>2.0</td>\n",
       "      <td>4</td>\n",
       "      <td>SemiAuto-8</td>\n",
       "      <td>4WD</td>\n",
       "      <td>Gasoline</td>\n",
       "      <td>small SUV</td>\n",
       "      <td>7.0</td>\n",
       "      <td>26.0</td>\n",
       "      <td>28.0</td>\n",
       "      <td>26.0</td>\n",
       "      <td>10</td>\n",
       "      <td>Elite</td>\n",
       "    </tr>\n",
       "    <tr>\n",
       "      <th>175</th>\n",
       "      <td>CHEVROLET Cruze Hatchback</td>\n",
       "      <td>1.6</td>\n",
       "      <td>4</td>\n",
       "      <td>Man-6</td>\n",
       "      <td>2WD</td>\n",
       "      <td>Diesel</td>\n",
       "      <td>midsize car</td>\n",
       "      <td>3.0</td>\n",
       "      <td>29.0</td>\n",
       "      <td>48.0</td>\n",
       "      <td>35.0</td>\n",
       "      <td>7</td>\n",
       "      <td>Yes</td>\n",
       "    </tr>\n",
       "    <tr>\n",
       "      <th>571</th>\n",
       "      <td>MINI Cooper Hardtop</td>\n",
       "      <td>1.5</td>\n",
       "      <td>3</td>\n",
       "      <td>Man-6</td>\n",
       "      <td>2WD</td>\n",
       "      <td>Gasoline</td>\n",
       "      <td>small car</td>\n",
       "      <td>7.0</td>\n",
       "      <td>28.0</td>\n",
       "      <td>38.0</td>\n",
       "      <td>32.0</td>\n",
       "      <td>7</td>\n",
       "      <td>Yes</td>\n",
       "    </tr>\n",
       "  </tbody>\n",
       "</table>\n",
       "</div>"
      ],
      "text/plain": [
       "                         model  displ  cyl       trans drive      fuel  \\\n",
       "792                VOLVO XC 60    2.0    4  SemiAuto-8   4WD  Gasoline   \n",
       "175  CHEVROLET Cruze Hatchback    1.6    4       Man-6   2WD    Diesel   \n",
       "571        MINI Cooper Hardtop    1.5    3       Man-6   2WD  Gasoline   \n",
       "\n",
       "       veh_class  air_pollution_score  city_mpg  hwy_mpg  cmb_mpg  \\\n",
       "792    small SUV                  7.0      26.0     28.0     26.0   \n",
       "175  midsize car                  3.0      29.0     48.0     35.0   \n",
       "571    small car                  7.0      28.0     38.0     32.0   \n",
       "\n",
       "     greenhouse_gas_score smartway  \n",
       "792                    10    Elite  \n",
       "175                     7      Yes  \n",
       "571                     7      Yes  "
      ]
     },
     "execution_count": 22,
     "metadata": {},
     "output_type": "execute_result"
    }
   ],
   "source": [
    "df18_sw = df_18.query('smartway != \"No\"')\n",
    "df18_sw.sample(3)"
   ]
  },
  {
   "cell_type": "code",
   "execution_count": 23,
   "metadata": {},
   "outputs": [
    {
     "data": {
      "text/plain": [
       "no     607\n",
       "yes    380\n",
       "Name: smartway, dtype: int64"
      ]
     },
     "execution_count": 23,
     "metadata": {},
     "output_type": "execute_result"
    }
   ],
   "source": [
    "df_08.smartway.value_counts()"
   ]
  },
  {
   "cell_type": "code",
   "execution_count": 24,
   "metadata": {},
   "outputs": [
    {
     "data": {
      "text/plain": [
       "No       724\n",
       "Yes       91\n",
       "Elite     17\n",
       "Name: smartway, dtype: int64"
      ]
     },
     "execution_count": 24,
     "metadata": {},
     "output_type": "execute_result"
    }
   ],
   "source": [
    "df_18.smartway.value_counts()"
   ]
  },
  {
   "cell_type": "code",
   "execution_count": 25,
   "metadata": {},
   "outputs": [],
   "source": [
    "# There are more cars that qualified for smartway in 2008 than 2018. They have become much more stricter "
   ]
  },
  {
   "cell_type": "code",
   "execution_count": 26,
   "metadata": {},
   "outputs": [
    {
     "name": "stdout",
     "output_type": "stream",
     "text": [
      "Percent of cars with Smartway certification for 2008\n",
      "38.5 %\n",
      "Percent of cars with Smartway certification for 2018\n",
      "12.98 %\n"
     ]
    }
   ],
   "source": [
    "print('Percent of cars with Smartway certification for 2008')\n",
    "print(round((len(df_08.query('smartway == \"yes\"')) / len(df_08))*100,2),\"%\")\n",
    "print('Percent of cars with Smartway certification for 2018')\n",
    "print(round((len(df_18.query('smartway != \"No\"')) / len(df_18))*100,2),\"%\")"
   ]
  },
  {
   "cell_type": "code",
   "execution_count": 27,
   "metadata": {},
   "outputs": [
    {
     "data": {
      "text/plain": [
       "380"
      ]
     },
     "execution_count": 27,
     "metadata": {},
     "output_type": "execute_result"
    }
   ],
   "source": [
    "len(df08_sw)"
   ]
  },
  {
   "cell_type": "code",
   "execution_count": 28,
   "metadata": {},
   "outputs": [
    {
     "data": {
      "text/plain": [
       "108"
      ]
     },
     "execution_count": 28,
     "metadata": {},
     "output_type": "execute_result"
    }
   ],
   "source": [
    "len(df18_sw)"
   ]
  },
  {
   "cell_type": "code",
   "execution_count": 29,
   "metadata": {},
   "outputs": [
    {
     "data": {
      "text/plain": [
       "small car        177\n",
       "midsize car       80\n",
       "SUV               60\n",
       "station wagon     34\n",
       "large car         22\n",
       "pickup             5\n",
       "minivan            2\n",
       "Name: veh_class, dtype: int64"
      ]
     },
     "execution_count": 29,
     "metadata": {},
     "output_type": "execute_result"
    }
   ],
   "source": [
    "df08_sw.veh_class.value_counts()"
   ]
  },
  {
   "cell_type": "code",
   "execution_count": 30,
   "metadata": {},
   "outputs": [
    {
     "data": {
      "image/png": "[encoded data removed]",
      "text/plain": [
       "<matplotlib.figure.Figure at 0x7fdeaccfaeb8>"
      ]
     },
     "metadata": {},
     "output_type": "display_data"
    }
   ],
   "source": [
    "from matplotlib.pyplot import figure\n",
    "figure(figsize=(10, 10))\n",
    "df08_sw.veh_class.value_counts().plot.pie();"
   ]
  },
  {
   "cell_type": "code",
   "execution_count": 31,
   "metadata": {},
   "outputs": [
    {
     "data": {
      "text/plain": [
       "small car        43\n",
       "midsize car      41\n",
       "station wagon     9\n",
       "large car         9\n",
       "small SUV         4\n",
       "standard SUV      2\n",
       "Name: veh_class, dtype: int64"
      ]
     },
     "execution_count": 31,
     "metadata": {},
     "output_type": "execute_result"
    }
   ],
   "source": [
    "df18_sw.veh_class.value_counts()"
   ]
  },
  {
   "cell_type": "code",
   "execution_count": 32,
   "metadata": {},
   "outputs": [
    {
     "data": {
      "image/png": "[encoded data removed]",
      "text/plain": [
       "<matplotlib.figure.Figure at 0x7fdeaccfab00>"
      ]
     },
     "metadata": {},
     "output_type": "display_data"
    }
   ],
   "source": [
    "from matplotlib.pyplot import figure\n",
    "figure(figsize=(10, 10))\n",
    "df18_sw.veh_class.value_counts().plot.pie();"
   ]
  },
  {
   "cell_type": "code",
   "execution_count": 33,
   "metadata": {},
   "outputs": [
    {
     "data": {
      "text/plain": [
       "7     160\n",
       "6     142\n",
       "8      66\n",
       "9      10\n",
       "10      2\n",
       "Name: greenhouse_gas_score, dtype: int64"
      ]
     },
     "execution_count": 33,
     "metadata": {},
     "output_type": "execute_result"
    }
   ],
   "source": [
    "df08_sw.greenhouse_gas_score.value_counts()"
   ]
  },
  {
   "cell_type": "code",
   "execution_count": 34,
   "metadata": {},
   "outputs": [
    {
     "data": {
      "text/plain": [
       "7     59\n",
       "10    22\n",
       "8     20\n",
       "9      7\n",
       "Name: greenhouse_gas_score, dtype: int64"
      ]
     },
     "execution_count": 34,
     "metadata": {},
     "output_type": "execute_result"
    }
   ],
   "source": [
    "df18_sw.greenhouse_gas_score.value_counts()"
   ]
  },
  {
   "cell_type": "code",
   "execution_count": 35,
   "metadata": {},
   "outputs": [
    {
     "data": {
      "text/plain": [
       "7.0    239\n",
       "9.5     74\n",
       "6.0     60\n",
       "9.0      7\n",
       "Name: air_pollution_score, dtype: int64"
      ]
     },
     "execution_count": 35,
     "metadata": {},
     "output_type": "execute_result"
    }
   ],
   "source": [
    "df08_sw.air_pollution_score.value_counts()"
   ]
  },
  {
   "cell_type": "code",
   "execution_count": 36,
   "metadata": {},
   "outputs": [
    {
     "data": {
      "text/plain": [
       "7.0    47\n",
       "3.0    39\n",
       "5.0    15\n",
       "6.0     7\n",
       "Name: air_pollution_score, dtype: int64"
      ]
     },
     "execution_count": 36,
     "metadata": {},
     "output_type": "execute_result"
    }
   ],
   "source": [
    "df18_sw.air_pollution_score.value_counts()"
   ]
  },
  {
   "cell_type": "code",
   "execution_count": 37,
   "metadata": {},
   "outputs": [
    {
     "data": {
      "image/png": "[encoded data removed]",
      "text/plain": [
       "<matplotlib.figure.Figure at 0x7fdeacc11390>"
      ]
     },
     "metadata": {
      "needs_background": "light"
     },
     "output_type": "display_data"
    }
   ],
   "source": [
    "from matplotlib.pyplot import figure\n",
    "figure(figsize=(10, 6))\n",
    "\n",
    "df08_sw.greenhouse_gas_score.hist();\n",
    "df18_sw.greenhouse_gas_score.hist();\n",
    "plt.legend(['2008','2018']);"
   ]
  },
  {
   "cell_type": "code",
   "execution_count": 38,
   "metadata": {},
   "outputs": [
    {
     "data": {
      "image/png": "[encoded data removed]",
      "text/plain": [
       "<matplotlib.figure.Figure at 0x7fdeacb2d6d8>"
      ]
     },
     "metadata": {
      "needs_background": "light"
     },
     "output_type": "display_data"
    }
   ],
   "source": [
    "from matplotlib.pyplot import figure\n",
    "figure(figsize=(10, 6))\n",
    "df08_sw.air_pollution_score.hist();\n",
    "df18_sw.air_pollution_score.hist();\n",
    "plt.legend(['2008','2018']);"
   ]
  },
  {
   "cell_type": "code",
   "execution_count": null,
   "metadata": {},
   "outputs": [],
   "source": []
  },
  {
   "cell_type": "markdown",
   "metadata": {},
   "source": [
    "### Q4: What features are associated with better fuel economy?"
   ]
  },
  {
   "cell_type": "code",
   "execution_count": 39,
   "metadata": {},
   "outputs": [
    {
     "data": {
      "text/plain": [
       "Index(['model', 'displ', 'cyl', 'trans', 'drive', 'fuel', 'veh_class',\n",
       "       'air_pollution_score', 'city_mpg', 'hwy_mpg', 'cmb_mpg',\n",
       "       'greenhouse_gas_score', 'smartway'],\n",
       "      dtype='object')"
      ]
     },
     "execution_count": 39,
     "metadata": {},
     "output_type": "execute_result"
    }
   ],
   "source": [
    "df_08.columns"
   ]
  },
  {
   "cell_type": "code",
   "execution_count": 40,
   "metadata": {
    "scrolled": false
   },
   "outputs": [
    {
     "data": {
      "image/png": "[encoded data removed]",
      "text/plain": [
       "<matplotlib.figure.Figure at 0x7fdeacb46d30>"
      ]
     },
     "metadata": {
      "needs_background": "light"
     },
     "output_type": "display_data"
    },
    {
     "data": {
      "image/png": "[encoded data removed]",
      "text/plain": [
       "<matplotlib.figure.Figure at 0x7fdeaca41c18>"
      ]
     },
     "metadata": {
      "needs_background": "light"
     },
     "output_type": "display_data"
    },
    {
     "data": {
      "image/png": "[encoded data removed]",
      "text/plain": [
       "<matplotlib.figure.Figure at 0x7fdeac9b16a0>"
      ]
     },
     "metadata": {
      "needs_background": "light"
     },
     "output_type": "display_data"
    },
    {
     "data": {
      "image/png": "[encoded data removed]",
      "text/plain": [
       "<matplotlib.figure.Figure at 0x7fdeacb05c18>"
      ]
     },
     "metadata": {
      "needs_background": "light"
     },
     "output_type": "display_data"
    },
    {
     "data": {
      "image/png": "[encoded data removed]",
      "text/plain": [
       "<matplotlib.figure.Figure at 0x7fdeacb4c8d0>"
      ]
     },
     "metadata": {
      "needs_background": "light"
     },
     "output_type": "display_data"
    },
    {
     "data": {
      "image/png": "[encoded data removed]",
      "text/plain": [
       "<matplotlib.figure.Figure at 0x7fdeacc2cc88>"
      ]
     },
     "metadata": {
      "needs_background": "light"
     },
     "output_type": "display_data"
    },
    {
     "data": {
      "image/png": "[encoded data removed]",
      "text/plain": [
       "<matplotlib.figure.Figure at 0x7fdeaccc07b8>"
      ]
     },
     "metadata": {
      "needs_background": "light"
     },
     "output_type": "display_data"
    },
    {
     "data": {
      "image/png": "[encoded data removed]",
      "text/plain": [
       "<matplotlib.figure.Figure at 0x7fdeacc9d048>"
      ]
     },
     "metadata": {
      "needs_background": "light"
     },
     "output_type": "display_data"
    }
   ],
   "source": [
    " #'trans', 'drive','fuel', 'veh_class',  'smartway'\n",
    "features =  ['displ', 'cyl',  'air_pollution_score', 'greenhouse_gas_score']\n",
    "\n",
    "for feature in features:\n",
    "    df_08.plot(y='cmb_mpg', x=feature, kind='scatter');\n",
    "    df_18.plot(y='cmb_mpg', x=feature, kind='scatter');"
   ]
  },
  {
   "cell_type": "code",
   "execution_count": 41,
   "metadata": {},
   "outputs": [
    {
     "data": {
      "text/plain": [
       "Index(['model', 'displ', 'cyl', 'trans', 'drive', 'fuel', 'veh_class',\n",
       "       'air_pollution_score', 'city_mpg', 'hwy_mpg', 'cmb_mpg',\n",
       "       'greenhouse_gas_score', 'smartway'],\n",
       "      dtype='object')"
      ]
     },
     "execution_count": 41,
     "metadata": {},
     "output_type": "execute_result"
    }
   ],
   "source": [
    "df_08.columns"
   ]
  },
  {
   "cell_type": "markdown",
   "metadata": {},
   "source": [
    "#### Q5: For all of the models that were produced in 2008 that are still being produced in 2018, how much has the mpg improved and which vehicle improved the most?\n",
    "This is a question regarding models that were updated since 2008 and still being produced in 2018. In order to do this, we need a way to compare models that exist in both datasets. To do this, let's first learn about merges."
   ]
  },
  {
   "cell_type": "code",
   "execution_count": 114,
   "metadata": {},
   "outputs": [],
   "source": [
    "\n",
    "df_08_models = df_08.model.drop_duplicates().tolist()\n",
    "df_18_models = df_18.model.drop_duplicates().tolist()\n",
    "shared_models = list(set(df_08_models) & set(df_18_models))"
   ]
  },
  {
   "cell_type": "code",
   "execution_count": 113,
   "metadata": {},
   "outputs": [
    {
     "data": {
      "text/html": [
       "<div>\n",
       "<style scoped>\n",
       "    .dataframe tbody tr th:only-of-type {\n",
       "        vertical-align: middle;\n",
       "    }\n",
       "\n",
       "    .dataframe tbody tr th {\n",
       "        vertical-align: top;\n",
       "    }\n",
       "\n",
       "    .dataframe thead th {\n",
       "        text-align: right;\n",
       "    }\n",
       "</style>\n",
       "<table border=\"1\" class=\"dataframe\">\n",
       "  <thead>\n",
       "    <tr style=\"text-align: right;\">\n",
       "      <th></th>\n",
       "      <th>model</th>\n",
       "      <th>displ</th>\n",
       "      <th>cyl</th>\n",
       "      <th>trans</th>\n",
       "      <th>drive</th>\n",
       "      <th>fuel</th>\n",
       "      <th>veh_class</th>\n",
       "      <th>air_pollution_score</th>\n",
       "      <th>city_mpg</th>\n",
       "      <th>hwy_mpg</th>\n",
       "      <th>cmb_mpg</th>\n",
       "      <th>greenhouse_gas_score</th>\n",
       "      <th>smartway</th>\n",
       "    </tr>\n",
       "  </thead>\n",
       "  <tbody>\n",
       "  </tbody>\n",
       "</table>\n",
       "</div>"
      ],
      "text/plain": [
       "Empty DataFrame\n",
       "Columns: [model, displ, cyl, trans, drive, fuel, veh_class, air_pollution_score, city_mpg, hwy_mpg, cmb_mpg, greenhouse_gas_score, smartway]\n",
       "Index: []"
      ]
     },
     "execution_count": 113,
     "metadata": {},
     "output_type": "execute_result"
    }
   ],
   "source": []
  },
  {
   "cell_type": "code",
   "execution_count": 115,
   "metadata": {},
   "outputs": [],
   "source": [
    "df_08_gb_shared_models = df_08[df_08.model.isin(shared_models)].groupby('model')[['model',  'city_mpg', 'hwy_mpg', 'cmb_mpg']].mean().reset_index()\n",
    "df_08_gb_shared_models = df_08_gb_shared_models.sort_values(by='model').set_index('model')\n",
    "df_18_gb_shared_models = df_18[df_18.model.isin(shared_models)].groupby('model')[['model',  'city_mpg', 'hwy_mpg', 'cmb_mpg']].mean().reset_index()\n",
    "df_18_gb_shared_models = df_18_gb_shared_models.sort_values(by='model').set_index('model')"
   ]
  },
  {
   "cell_type": "code",
   "execution_count": null,
   "metadata": {},
   "outputs": [],
   "source": []
  },
  {
   "cell_type": "code",
   "execution_count": 123,
   "metadata": {
    "scrolled": true
   },
   "outputs": [
    {
     "data": {
      "text/html": [
       "<div>\n",
       "<style scoped>\n",
       "    .dataframe tbody tr th:only-of-type {\n",
       "        vertical-align: middle;\n",
       "    }\n",
       "\n",
       "    .dataframe tbody tr th {\n",
       "        vertical-align: top;\n",
       "    }\n",
       "\n",
       "    .dataframe thead th {\n",
       "        text-align: right;\n",
       "    }\n",
       "</style>\n",
       "<table border=\"1\" class=\"dataframe\">\n",
       "  <thead>\n",
       "    <tr style=\"text-align: right;\">\n",
       "      <th></th>\n",
       "      <th>city_mpg</th>\n",
       "      <th>hwy_mpg</th>\n",
       "      <th>cmb_mpg</th>\n",
       "    </tr>\n",
       "    <tr>\n",
       "      <th>model</th>\n",
       "      <th></th>\n",
       "      <th></th>\n",
       "      <th></th>\n",
       "    </tr>\n",
       "  </thead>\n",
       "  <tbody>\n",
       "    <tr>\n",
       "      <th>ACURA RDX</th>\n",
       "      <td>2.500000</td>\n",
       "      <td>5.500000</td>\n",
       "      <td>3.500000</td>\n",
       "    </tr>\n",
       "    <tr>\n",
       "      <th>AUDI A3</th>\n",
       "      <td>4.666667</td>\n",
       "      <td>5.333333</td>\n",
       "      <td>4.666667</td>\n",
       "    </tr>\n",
       "    <tr>\n",
       "      <th>AUDI A4</th>\n",
       "      <td>6.250000</td>\n",
       "      <td>6.750000</td>\n",
       "      <td>6.000000</td>\n",
       "    </tr>\n",
       "    <tr>\n",
       "      <th>AUDI A6</th>\n",
       "      <td>5.333333</td>\n",
       "      <td>6.333333</td>\n",
       "      <td>6.000000</td>\n",
       "    </tr>\n",
       "    <tr>\n",
       "      <th>AUDI A8 L</th>\n",
       "      <td>4.500000</td>\n",
       "      <td>8.000000</td>\n",
       "      <td>5.500000</td>\n",
       "    </tr>\n",
       "    <tr>\n",
       "      <th>AUDI Q7</th>\n",
       "      <td>6.000000</td>\n",
       "      <td>6.500000</td>\n",
       "      <td>6.000000</td>\n",
       "    </tr>\n",
       "    <tr>\n",
       "      <th>AUDI S4</th>\n",
       "      <td>7.500000</td>\n",
       "      <td>9.500000</td>\n",
       "      <td>8.500000</td>\n",
       "    </tr>\n",
       "    <tr>\n",
       "      <th>AUDI S5</th>\n",
       "      <td>7.000000</td>\n",
       "      <td>9.000000</td>\n",
       "      <td>8.000000</td>\n",
       "    </tr>\n",
       "    <tr>\n",
       "      <th>AUDI TT Coupe</th>\n",
       "      <td>3.666667</td>\n",
       "      <td>3.666667</td>\n",
       "      <td>4.333333</td>\n",
       "    </tr>\n",
       "    <tr>\n",
       "      <th>AUDI TT Roadster</th>\n",
       "      <td>4.000000</td>\n",
       "      <td>4.333333</td>\n",
       "      <td>4.666667</td>\n",
       "    </tr>\n",
       "    <tr>\n",
       "      <th>BMW 750i</th>\n",
       "      <td>-0.500000</td>\n",
       "      <td>0.000000</td>\n",
       "      <td>-0.500000</td>\n",
       "    </tr>\n",
       "    <tr>\n",
       "      <th>BMW Alpina B7</th>\n",
       "      <td>1.000000</td>\n",
       "      <td>2.000000</td>\n",
       "      <td>1.000000</td>\n",
       "    </tr>\n",
       "    <tr>\n",
       "      <th>BMW M6 Convertible</th>\n",
       "      <td>2.500000</td>\n",
       "      <td>2.500000</td>\n",
       "      <td>2.500000</td>\n",
       "    </tr>\n",
       "    <tr>\n",
       "      <th>CADILLAC CTS</th>\n",
       "      <td>2.600000</td>\n",
       "      <td>2.400000</td>\n",
       "      <td>2.800000</td>\n",
       "    </tr>\n",
       "    <tr>\n",
       "      <th>CADILLAC Escalade</th>\n",
       "      <td>2.000000</td>\n",
       "      <td>3.500000</td>\n",
       "      <td>3.000000</td>\n",
       "    </tr>\n",
       "    <tr>\n",
       "      <th>CHEVROLET Corvette</th>\n",
       "      <td>-0.250000</td>\n",
       "      <td>-0.250000</td>\n",
       "      <td>-0.250000</td>\n",
       "    </tr>\n",
       "    <tr>\n",
       "      <th>CHEVROLET Equinox</th>\n",
       "      <td>8.500000</td>\n",
       "      <td>8.666667</td>\n",
       "      <td>8.833333</td>\n",
       "    </tr>\n",
       "    <tr>\n",
       "      <th>CHEVROLET Impala</th>\n",
       "      <td>1.250000</td>\n",
       "      <td>-0.500000</td>\n",
       "      <td>0.750000</td>\n",
       "    </tr>\n",
       "    <tr>\n",
       "      <th>CHEVROLET Malibu</th>\n",
       "      <td>12.250000</td>\n",
       "      <td>8.416667</td>\n",
       "      <td>10.666667</td>\n",
       "    </tr>\n",
       "    <tr>\n",
       "      <th>CHEVROLET Silverado 15</th>\n",
       "      <td>0.750000</td>\n",
       "      <td>1.562500</td>\n",
       "      <td>1.312500</td>\n",
       "    </tr>\n",
       "    <tr>\n",
       "      <th>CHEVROLET Tahoe 1500</th>\n",
       "      <td>2.375000</td>\n",
       "      <td>2.000000</td>\n",
       "      <td>2.875000</td>\n",
       "    </tr>\n",
       "    <tr>\n",
       "      <th>CHRYSLER 300</th>\n",
       "      <td>0.714286</td>\n",
       "      <td>3.057143</td>\n",
       "      <td>1.200000</td>\n",
       "    </tr>\n",
       "    <tr>\n",
       "      <th>CHRYSLER Pacifica</th>\n",
       "      <td>3.833333</td>\n",
       "      <td>5.666667</td>\n",
       "      <td>4.666667</td>\n",
       "    </tr>\n",
       "    <tr>\n",
       "      <th>DODGE Challenger</th>\n",
       "      <td>2.800000</td>\n",
       "      <td>7.200000</td>\n",
       "      <td>4.000000</td>\n",
       "    </tr>\n",
       "    <tr>\n",
       "      <th>DODGE Charger</th>\n",
       "      <td>0.500000</td>\n",
       "      <td>2.950000</td>\n",
       "      <td>0.950000</td>\n",
       "    </tr>\n",
       "    <tr>\n",
       "      <th>DODGE Durango</th>\n",
       "      <td>2.850000</td>\n",
       "      <td>5.350000</td>\n",
       "      <td>3.800000</td>\n",
       "    </tr>\n",
       "    <tr>\n",
       "      <th>FORD F150</th>\n",
       "      <td>3.954545</td>\n",
       "      <td>4.560606</td>\n",
       "      <td>4.545455</td>\n",
       "    </tr>\n",
       "    <tr>\n",
       "      <th>FORD Fusion</th>\n",
       "      <td>2.066667</td>\n",
       "      <td>4.066667</td>\n",
       "      <td>2.666667</td>\n",
       "    </tr>\n",
       "    <tr>\n",
       "      <th>GMC Acadia</th>\n",
       "      <td>3.250000</td>\n",
       "      <td>2.250000</td>\n",
       "      <td>3.250000</td>\n",
       "    </tr>\n",
       "    <tr>\n",
       "      <th>GMC Sierra 15</th>\n",
       "      <td>2.050000</td>\n",
       "      <td>1.962500</td>\n",
       "      <td>2.112500</td>\n",
       "    </tr>\n",
       "    <tr>\n",
       "      <th>...</th>\n",
       "      <td>...</td>\n",
       "      <td>...</td>\n",
       "      <td>...</td>\n",
       "    </tr>\n",
       "    <tr>\n",
       "      <th>KIA Sportage</th>\n",
       "      <td>2.766667</td>\n",
       "      <td>2.566667</td>\n",
       "      <td>2.733333</td>\n",
       "    </tr>\n",
       "    <tr>\n",
       "      <th>LEXUS LX 570</th>\n",
       "      <td>1.000000</td>\n",
       "      <td>0.000000</td>\n",
       "      <td>1.000000</td>\n",
       "    </tr>\n",
       "    <tr>\n",
       "      <th>MASERATI Granturismo</th>\n",
       "      <td>-1.000000</td>\n",
       "      <td>0.000000</td>\n",
       "      <td>-1.000000</td>\n",
       "    </tr>\n",
       "    <tr>\n",
       "      <th>MAZDA 3</th>\n",
       "      <td>5.533333</td>\n",
       "      <td>7.266667</td>\n",
       "      <td>6.433333</td>\n",
       "    </tr>\n",
       "    <tr>\n",
       "      <th>MAZDA CX-9</th>\n",
       "      <td>5.500000</td>\n",
       "      <td>5.500000</td>\n",
       "      <td>6.000000</td>\n",
       "    </tr>\n",
       "    <tr>\n",
       "      <th>MERCEDES-BENZ C300</th>\n",
       "      <td>7.166667</td>\n",
       "      <td>8.666667</td>\n",
       "      <td>7.666667</td>\n",
       "    </tr>\n",
       "    <tr>\n",
       "      <th>MERCEDES-BENZ SL550</th>\n",
       "      <td>3.000000</td>\n",
       "      <td>4.000000</td>\n",
       "      <td>4.000000</td>\n",
       "    </tr>\n",
       "    <tr>\n",
       "      <th>NISSAN Armada</th>\n",
       "      <td>1.500000</td>\n",
       "      <td>1.000000</td>\n",
       "      <td>1.500000</td>\n",
       "    </tr>\n",
       "    <tr>\n",
       "      <th>NISSAN Versa</th>\n",
       "      <td>2.733333</td>\n",
       "      <td>5.000000</td>\n",
       "      <td>3.400000</td>\n",
       "    </tr>\n",
       "    <tr>\n",
       "      <th>PORSCHE 911 Turbo</th>\n",
       "      <td>3.500000</td>\n",
       "      <td>1.000000</td>\n",
       "      <td>3.000000</td>\n",
       "    </tr>\n",
       "    <tr>\n",
       "      <th>PORSCHE 911 Turbo Cabriolet</th>\n",
       "      <td>4.000000</td>\n",
       "      <td>0.500000</td>\n",
       "      <td>3.000000</td>\n",
       "    </tr>\n",
       "    <tr>\n",
       "      <th>PORSCHE Boxster</th>\n",
       "      <td>2.166667</td>\n",
       "      <td>0.833333</td>\n",
       "      <td>2.500000</td>\n",
       "    </tr>\n",
       "    <tr>\n",
       "      <th>PORSCHE Boxster S</th>\n",
       "      <td>2.500000</td>\n",
       "      <td>1.500000</td>\n",
       "      <td>2.000000</td>\n",
       "    </tr>\n",
       "    <tr>\n",
       "      <th>PORSCHE Cayenne S</th>\n",
       "      <td>4.000000</td>\n",
       "      <td>5.000000</td>\n",
       "      <td>5.000000</td>\n",
       "    </tr>\n",
       "    <tr>\n",
       "      <th>SUBARU Forester</th>\n",
       "      <td>4.166667</td>\n",
       "      <td>3.333333</td>\n",
       "      <td>4.166667</td>\n",
       "    </tr>\n",
       "    <tr>\n",
       "      <th>SUBARU Impreza</th>\n",
       "      <td>6.250000</td>\n",
       "      <td>8.500000</td>\n",
       "      <td>7.250000</td>\n",
       "    </tr>\n",
       "    <tr>\n",
       "      <th>SUBARU Legacy</th>\n",
       "      <td>3.625000</td>\n",
       "      <td>5.375000</td>\n",
       "      <td>4.875000</td>\n",
       "    </tr>\n",
       "    <tr>\n",
       "      <th>TOYOTA 4Runner</th>\n",
       "      <td>1.750000</td>\n",
       "      <td>1.250000</td>\n",
       "      <td>1.250000</td>\n",
       "    </tr>\n",
       "    <tr>\n",
       "      <th>TOYOTA Avalon</th>\n",
       "      <td>2.000000</td>\n",
       "      <td>2.000000</td>\n",
       "      <td>2.000000</td>\n",
       "    </tr>\n",
       "    <tr>\n",
       "      <th>TOYOTA Camry</th>\n",
       "      <td>5.000000</td>\n",
       "      <td>6.750000</td>\n",
       "      <td>5.750000</td>\n",
       "    </tr>\n",
       "    <tr>\n",
       "      <th>TOYOTA Corolla</th>\n",
       "      <td>0.666667</td>\n",
       "      <td>-0.666667</td>\n",
       "      <td>1.000000</td>\n",
       "    </tr>\n",
       "    <tr>\n",
       "      <th>TOYOTA Land Cruiser</th>\n",
       "      <td>0.000000</td>\n",
       "      <td>0.000000</td>\n",
       "      <td>0.000000</td>\n",
       "    </tr>\n",
       "    <tr>\n",
       "      <th>TOYOTA RAV4</th>\n",
       "      <td>2.750000</td>\n",
       "      <td>2.250000</td>\n",
       "      <td>2.750000</td>\n",
       "    </tr>\n",
       "    <tr>\n",
       "      <th>TOYOTA Sequoia</th>\n",
       "      <td>-0.500000</td>\n",
       "      <td>-0.500000</td>\n",
       "      <td>-0.250000</td>\n",
       "    </tr>\n",
       "    <tr>\n",
       "      <th>TOYOTA Tundra</th>\n",
       "      <td>-0.050000</td>\n",
       "      <td>0.600000</td>\n",
       "      <td>-0.150000</td>\n",
       "    </tr>\n",
       "    <tr>\n",
       "      <th>TOYOTA Yaris</th>\n",
       "      <td>1.000000</td>\n",
       "      <td>0.000000</td>\n",
       "      <td>1.000000</td>\n",
       "    </tr>\n",
       "    <tr>\n",
       "      <th>VOLKSWAGEN Jetta</th>\n",
       "      <td>4.833333</td>\n",
       "      <td>7.000000</td>\n",
       "      <td>5.833333</td>\n",
       "    </tr>\n",
       "    <tr>\n",
       "      <th>VOLKSWAGEN Passat</th>\n",
       "      <td>6.750000</td>\n",
       "      <td>9.250000</td>\n",
       "      <td>7.750000</td>\n",
       "    </tr>\n",
       "    <tr>\n",
       "      <th>VOLVO S60</th>\n",
       "      <td>4.833333</td>\n",
       "      <td>7.333333</td>\n",
       "      <td>5.666667</td>\n",
       "    </tr>\n",
       "    <tr>\n",
       "      <th>VOLVO XC 90</th>\n",
       "      <td>16.933333</td>\n",
       "      <td>15.333333</td>\n",
       "      <td>16.533333</td>\n",
       "    </tr>\n",
       "  </tbody>\n",
       "</table>\n",
       "<p>72 rows × 3 columns</p>\n",
       "</div>"
      ],
      "text/plain": [
       "                              city_mpg    hwy_mpg    cmb_mpg\n",
       "model                                                       \n",
       "ACURA RDX                     2.500000   5.500000   3.500000\n",
       "AUDI A3                       4.666667   5.333333   4.666667\n",
       "AUDI A4                       6.250000   6.750000   6.000000\n",
       "AUDI A6                       5.333333   6.333333   6.000000\n",
       "AUDI A8 L                     4.500000   8.000000   5.500000\n",
       "AUDI Q7                       6.000000   6.500000   6.000000\n",
       "AUDI S4                       7.500000   9.500000   8.500000\n",
       "AUDI S5                       7.000000   9.000000   8.000000\n",
       "AUDI TT Coupe                 3.666667   3.666667   4.333333\n",
       "AUDI TT Roadster              4.000000   4.333333   4.666667\n",
       "BMW 750i                     -0.500000   0.000000  -0.500000\n",
       "BMW Alpina B7                 1.000000   2.000000   1.000000\n",
       "BMW M6 Convertible            2.500000   2.500000   2.500000\n",
       "CADILLAC CTS                  2.600000   2.400000   2.800000\n",
       "CADILLAC Escalade             2.000000   3.500000   3.000000\n",
       "CHEVROLET Corvette           -0.250000  -0.250000  -0.250000\n",
       "CHEVROLET Equinox             8.500000   8.666667   8.833333\n",
       "CHEVROLET Impala              1.250000  -0.500000   0.750000\n",
       "CHEVROLET Malibu             12.250000   8.416667  10.666667\n",
       "CHEVROLET Silverado 15        0.750000   1.562500   1.312500\n",
       "CHEVROLET Tahoe 1500          2.375000   2.000000   2.875000\n",
       "CHRYSLER 300                  0.714286   3.057143   1.200000\n",
       "CHRYSLER Pacifica             3.833333   5.666667   4.666667\n",
       "DODGE Challenger              2.800000   7.200000   4.000000\n",
       "DODGE Charger                 0.500000   2.950000   0.950000\n",
       "DODGE Durango                 2.850000   5.350000   3.800000\n",
       "FORD F150                     3.954545   4.560606   4.545455\n",
       "FORD Fusion                   2.066667   4.066667   2.666667\n",
       "GMC Acadia                    3.250000   2.250000   3.250000\n",
       "GMC Sierra 15                 2.050000   1.962500   2.112500\n",
       "...                                ...        ...        ...\n",
       "KIA Sportage                  2.766667   2.566667   2.733333\n",
       "LEXUS LX 570                  1.000000   0.000000   1.000000\n",
       "MASERATI Granturismo         -1.000000   0.000000  -1.000000\n",
       "MAZDA 3                       5.533333   7.266667   6.433333\n",
       "MAZDA CX-9                    5.500000   5.500000   6.000000\n",
       "MERCEDES-BENZ C300            7.166667   8.666667   7.666667\n",
       "MERCEDES-BENZ SL550           3.000000   4.000000   4.000000\n",
       "NISSAN Armada                 1.500000   1.000000   1.500000\n",
       "NISSAN Versa                  2.733333   5.000000   3.400000\n",
       "PORSCHE 911 Turbo             3.500000   1.000000   3.000000\n",
       "PORSCHE 911 Turbo Cabriolet   4.000000   0.500000   3.000000\n",
       "PORSCHE Boxster               2.166667   0.833333   2.500000\n",
       "PORSCHE Boxster S             2.500000   1.500000   2.000000\n",
       "PORSCHE Cayenne S             4.000000   5.000000   5.000000\n",
       "SUBARU Forester               4.166667   3.333333   4.166667\n",
       "SUBARU Impreza                6.250000   8.500000   7.250000\n",
       "SUBARU Legacy                 3.625000   5.375000   4.875000\n",
       "TOYOTA 4Runner                1.750000   1.250000   1.250000\n",
       "TOYOTA Avalon                 2.000000   2.000000   2.000000\n",
       "TOYOTA Camry                  5.000000   6.750000   5.750000\n",
       "TOYOTA Corolla                0.666667  -0.666667   1.000000\n",
       "TOYOTA Land Cruiser           0.000000   0.000000   0.000000\n",
       "TOYOTA RAV4                   2.750000   2.250000   2.750000\n",
       "TOYOTA Sequoia               -0.500000  -0.500000  -0.250000\n",
       "TOYOTA Tundra                -0.050000   0.600000  -0.150000\n",
       "TOYOTA Yaris                  1.000000   0.000000   1.000000\n",
       "VOLKSWAGEN Jetta              4.833333   7.000000   5.833333\n",
       "VOLKSWAGEN Passat             6.750000   9.250000   7.750000\n",
       "VOLVO S60                     4.833333   7.333333   5.666667\n",
       "VOLVO XC 90                  16.933333  15.333333  16.533333\n",
       "\n",
       "[72 rows x 3 columns]"
      ]
     },
     "execution_count": 123,
     "metadata": {},
     "output_type": "execute_result"
    }
   ],
   "source": [
    "df_gb_shared_models_diff = df_18_gb_shared_models.subtract(df_08_gb_shared_models)\n",
    "df_gb_shared_models_diff"
   ]
  },
  {
   "cell_type": "code",
   "execution_count": 124,
   "metadata": {},
   "outputs": [
    {
     "data": {
      "text/plain": [
       "city_mpg    3.387811\n",
       "hwy_mpg     3.982158\n",
       "cmb_mpg     3.718555\n",
       "dtype: float64"
      ]
     },
     "execution_count": 124,
     "metadata": {},
     "output_type": "execute_result"
    }
   ],
   "source": [
    "df_gb_shared_models_diff.mean()"
   ]
  },
  {
   "cell_type": "code",
   "execution_count": 126,
   "metadata": {},
   "outputs": [
    {
     "data": {
      "text/html": [
       "<div>\n",
       "<style scoped>\n",
       "    .dataframe tbody tr th:only-of-type {\n",
       "        vertical-align: middle;\n",
       "    }\n",
       "\n",
       "    .dataframe tbody tr th {\n",
       "        vertical-align: top;\n",
       "    }\n",
       "\n",
       "    .dataframe thead th {\n",
       "        text-align: right;\n",
       "    }\n",
       "</style>\n",
       "<table border=\"1\" class=\"dataframe\">\n",
       "  <thead>\n",
       "    <tr style=\"text-align: right;\">\n",
       "      <th></th>\n",
       "      <th>city_mpg</th>\n",
       "      <th>hwy_mpg</th>\n",
       "      <th>cmb_mpg</th>\n",
       "    </tr>\n",
       "    <tr>\n",
       "      <th>model</th>\n",
       "      <th></th>\n",
       "      <th></th>\n",
       "      <th></th>\n",
       "    </tr>\n",
       "  </thead>\n",
       "  <tbody>\n",
       "    <tr>\n",
       "      <th>VOLVO XC 90</th>\n",
       "      <td>16.933333</td>\n",
       "      <td>15.333333</td>\n",
       "      <td>16.533333</td>\n",
       "    </tr>\n",
       "    <tr>\n",
       "      <th>CHEVROLET Malibu</th>\n",
       "      <td>12.250000</td>\n",
       "      <td>8.416667</td>\n",
       "      <td>10.666667</td>\n",
       "    </tr>\n",
       "    <tr>\n",
       "      <th>CHEVROLET Equinox</th>\n",
       "      <td>8.500000</td>\n",
       "      <td>8.666667</td>\n",
       "      <td>8.833333</td>\n",
       "    </tr>\n",
       "    <tr>\n",
       "      <th>AUDI S4</th>\n",
       "      <td>7.500000</td>\n",
       "      <td>9.500000</td>\n",
       "      <td>8.500000</td>\n",
       "    </tr>\n",
       "    <tr>\n",
       "      <th>AUDI S5</th>\n",
       "      <td>7.000000</td>\n",
       "      <td>9.000000</td>\n",
       "      <td>8.000000</td>\n",
       "    </tr>\n",
       "    <tr>\n",
       "      <th>VOLKSWAGEN Passat</th>\n",
       "      <td>6.750000</td>\n",
       "      <td>9.250000</td>\n",
       "      <td>7.750000</td>\n",
       "    </tr>\n",
       "    <tr>\n",
       "      <th>MERCEDES-BENZ C300</th>\n",
       "      <td>7.166667</td>\n",
       "      <td>8.666667</td>\n",
       "      <td>7.666667</td>\n",
       "    </tr>\n",
       "    <tr>\n",
       "      <th>SUBARU Impreza</th>\n",
       "      <td>6.250000</td>\n",
       "      <td>8.500000</td>\n",
       "      <td>7.250000</td>\n",
       "    </tr>\n",
       "    <tr>\n",
       "      <th>MAZDA 3</th>\n",
       "      <td>5.533333</td>\n",
       "      <td>7.266667</td>\n",
       "      <td>6.433333</td>\n",
       "    </tr>\n",
       "    <tr>\n",
       "      <th>AUDI A6</th>\n",
       "      <td>5.333333</td>\n",
       "      <td>6.333333</td>\n",
       "      <td>6.000000</td>\n",
       "    </tr>\n",
       "    <tr>\n",
       "      <th>AUDI Q7</th>\n",
       "      <td>6.000000</td>\n",
       "      <td>6.500000</td>\n",
       "      <td>6.000000</td>\n",
       "    </tr>\n",
       "    <tr>\n",
       "      <th>AUDI A4</th>\n",
       "      <td>6.250000</td>\n",
       "      <td>6.750000</td>\n",
       "      <td>6.000000</td>\n",
       "    </tr>\n",
       "    <tr>\n",
       "      <th>MAZDA CX-9</th>\n",
       "      <td>5.500000</td>\n",
       "      <td>5.500000</td>\n",
       "      <td>6.000000</td>\n",
       "    </tr>\n",
       "    <tr>\n",
       "      <th>VOLKSWAGEN Jetta</th>\n",
       "      <td>4.833333</td>\n",
       "      <td>7.000000</td>\n",
       "      <td>5.833333</td>\n",
       "    </tr>\n",
       "    <tr>\n",
       "      <th>TOYOTA Camry</th>\n",
       "      <td>5.000000</td>\n",
       "      <td>6.750000</td>\n",
       "      <td>5.750000</td>\n",
       "    </tr>\n",
       "    <tr>\n",
       "      <th>VOLVO S60</th>\n",
       "      <td>4.833333</td>\n",
       "      <td>7.333333</td>\n",
       "      <td>5.666667</td>\n",
       "    </tr>\n",
       "    <tr>\n",
       "      <th>AUDI A8 L</th>\n",
       "      <td>4.500000</td>\n",
       "      <td>8.000000</td>\n",
       "      <td>5.500000</td>\n",
       "    </tr>\n",
       "    <tr>\n",
       "      <th>PORSCHE Cayenne S</th>\n",
       "      <td>4.000000</td>\n",
       "      <td>5.000000</td>\n",
       "      <td>5.000000</td>\n",
       "    </tr>\n",
       "    <tr>\n",
       "      <th>SUBARU Legacy</th>\n",
       "      <td>3.625000</td>\n",
       "      <td>5.375000</td>\n",
       "      <td>4.875000</td>\n",
       "    </tr>\n",
       "    <tr>\n",
       "      <th>KIA Sorento</th>\n",
       "      <td>4.333333</td>\n",
       "      <td>5.000000</td>\n",
       "      <td>4.666667</td>\n",
       "    </tr>\n",
       "    <tr>\n",
       "      <th>AUDI TT Roadster</th>\n",
       "      <td>4.000000</td>\n",
       "      <td>4.333333</td>\n",
       "      <td>4.666667</td>\n",
       "    </tr>\n",
       "    <tr>\n",
       "      <th>AUDI A3</th>\n",
       "      <td>4.666667</td>\n",
       "      <td>5.333333</td>\n",
       "      <td>4.666667</td>\n",
       "    </tr>\n",
       "    <tr>\n",
       "      <th>CHRYSLER Pacifica</th>\n",
       "      <td>3.833333</td>\n",
       "      <td>5.666667</td>\n",
       "      <td>4.666667</td>\n",
       "    </tr>\n",
       "    <tr>\n",
       "      <th>HYUNDAI Sonata</th>\n",
       "      <td>4.916667</td>\n",
       "      <td>5.083333</td>\n",
       "      <td>4.583333</td>\n",
       "    </tr>\n",
       "    <tr>\n",
       "      <th>FORD F150</th>\n",
       "      <td>3.954545</td>\n",
       "      <td>4.560606</td>\n",
       "      <td>4.545455</td>\n",
       "    </tr>\n",
       "    <tr>\n",
       "      <th>JEEP Grand Cherokee</th>\n",
       "      <td>3.428571</td>\n",
       "      <td>6.047619</td>\n",
       "      <td>4.523810</td>\n",
       "    </tr>\n",
       "    <tr>\n",
       "      <th>HONDA Ridgeline</th>\n",
       "      <td>3.500000</td>\n",
       "      <td>5.500000</td>\n",
       "      <td>4.500000</td>\n",
       "    </tr>\n",
       "    <tr>\n",
       "      <th>AUDI TT Coupe</th>\n",
       "      <td>3.666667</td>\n",
       "      <td>3.666667</td>\n",
       "      <td>4.333333</td>\n",
       "    </tr>\n",
       "    <tr>\n",
       "      <th>SUBARU Forester</th>\n",
       "      <td>4.166667</td>\n",
       "      <td>3.333333</td>\n",
       "      <td>4.166667</td>\n",
       "    </tr>\n",
       "    <tr>\n",
       "      <th>DODGE Challenger</th>\n",
       "      <td>2.800000</td>\n",
       "      <td>7.200000</td>\n",
       "      <td>4.000000</td>\n",
       "    </tr>\n",
       "    <tr>\n",
       "      <th>...</th>\n",
       "      <td>...</td>\n",
       "      <td>...</td>\n",
       "      <td>...</td>\n",
       "    </tr>\n",
       "    <tr>\n",
       "      <th>GMC Yukon 1500</th>\n",
       "      <td>2.375000</td>\n",
       "      <td>3.000000</td>\n",
       "      <td>2.875000</td>\n",
       "    </tr>\n",
       "    <tr>\n",
       "      <th>CADILLAC CTS</th>\n",
       "      <td>2.600000</td>\n",
       "      <td>2.400000</td>\n",
       "      <td>2.800000</td>\n",
       "    </tr>\n",
       "    <tr>\n",
       "      <th>TOYOTA RAV4</th>\n",
       "      <td>2.750000</td>\n",
       "      <td>2.250000</td>\n",
       "      <td>2.750000</td>\n",
       "    </tr>\n",
       "    <tr>\n",
       "      <th>KIA Sportage</th>\n",
       "      <td>2.766667</td>\n",
       "      <td>2.566667</td>\n",
       "      <td>2.733333</td>\n",
       "    </tr>\n",
       "    <tr>\n",
       "      <th>FORD Fusion</th>\n",
       "      <td>2.066667</td>\n",
       "      <td>4.066667</td>\n",
       "      <td>2.666667</td>\n",
       "    </tr>\n",
       "    <tr>\n",
       "      <th>HYUNDAI Elantra</th>\n",
       "      <td>2.333333</td>\n",
       "      <td>2.500000</td>\n",
       "      <td>2.666667</td>\n",
       "    </tr>\n",
       "    <tr>\n",
       "      <th>BMW M6 Convertible</th>\n",
       "      <td>2.500000</td>\n",
       "      <td>2.500000</td>\n",
       "      <td>2.500000</td>\n",
       "    </tr>\n",
       "    <tr>\n",
       "      <th>PORSCHE Boxster</th>\n",
       "      <td>2.166667</td>\n",
       "      <td>0.833333</td>\n",
       "      <td>2.500000</td>\n",
       "    </tr>\n",
       "    <tr>\n",
       "      <th>GMC Sierra 15</th>\n",
       "      <td>2.050000</td>\n",
       "      <td>1.962500</td>\n",
       "      <td>2.112500</td>\n",
       "    </tr>\n",
       "    <tr>\n",
       "      <th>TOYOTA Avalon</th>\n",
       "      <td>2.000000</td>\n",
       "      <td>2.000000</td>\n",
       "      <td>2.000000</td>\n",
       "    </tr>\n",
       "    <tr>\n",
       "      <th>PORSCHE Boxster S</th>\n",
       "      <td>2.500000</td>\n",
       "      <td>1.500000</td>\n",
       "      <td>2.000000</td>\n",
       "    </tr>\n",
       "    <tr>\n",
       "      <th>KIA Sedona</th>\n",
       "      <td>2.000000</td>\n",
       "      <td>1.000000</td>\n",
       "      <td>2.000000</td>\n",
       "    </tr>\n",
       "    <tr>\n",
       "      <th>JEEP Compass</th>\n",
       "      <td>0.250000</td>\n",
       "      <td>4.666667</td>\n",
       "      <td>1.583333</td>\n",
       "    </tr>\n",
       "    <tr>\n",
       "      <th>NISSAN Armada</th>\n",
       "      <td>1.500000</td>\n",
       "      <td>1.000000</td>\n",
       "      <td>1.500000</td>\n",
       "    </tr>\n",
       "    <tr>\n",
       "      <th>CHEVROLET Silverado 15</th>\n",
       "      <td>0.750000</td>\n",
       "      <td>1.562500</td>\n",
       "      <td>1.312500</td>\n",
       "    </tr>\n",
       "    <tr>\n",
       "      <th>TOYOTA 4Runner</th>\n",
       "      <td>1.750000</td>\n",
       "      <td>1.250000</td>\n",
       "      <td>1.250000</td>\n",
       "    </tr>\n",
       "    <tr>\n",
       "      <th>CHRYSLER 300</th>\n",
       "      <td>0.714286</td>\n",
       "      <td>3.057143</td>\n",
       "      <td>1.200000</td>\n",
       "    </tr>\n",
       "    <tr>\n",
       "      <th>LEXUS LX 570</th>\n",
       "      <td>1.000000</td>\n",
       "      <td>0.000000</td>\n",
       "      <td>1.000000</td>\n",
       "    </tr>\n",
       "    <tr>\n",
       "      <th>HYUNDAI Santa Fe</th>\n",
       "      <td>0.833333</td>\n",
       "      <td>0.833333</td>\n",
       "      <td>1.000000</td>\n",
       "    </tr>\n",
       "    <tr>\n",
       "      <th>TOYOTA Corolla</th>\n",
       "      <td>0.666667</td>\n",
       "      <td>-0.666667</td>\n",
       "      <td>1.000000</td>\n",
       "    </tr>\n",
       "    <tr>\n",
       "      <th>TOYOTA Yaris</th>\n",
       "      <td>1.000000</td>\n",
       "      <td>0.000000</td>\n",
       "      <td>1.000000</td>\n",
       "    </tr>\n",
       "    <tr>\n",
       "      <th>BMW Alpina B7</th>\n",
       "      <td>1.000000</td>\n",
       "      <td>2.000000</td>\n",
       "      <td>1.000000</td>\n",
       "    </tr>\n",
       "    <tr>\n",
       "      <th>DODGE Charger</th>\n",
       "      <td>0.500000</td>\n",
       "      <td>2.950000</td>\n",
       "      <td>0.950000</td>\n",
       "    </tr>\n",
       "    <tr>\n",
       "      <th>CHEVROLET Impala</th>\n",
       "      <td>1.250000</td>\n",
       "      <td>-0.500000</td>\n",
       "      <td>0.750000</td>\n",
       "    </tr>\n",
       "    <tr>\n",
       "      <th>TOYOTA Land Cruiser</th>\n",
       "      <td>0.000000</td>\n",
       "      <td>0.000000</td>\n",
       "      <td>0.000000</td>\n",
       "    </tr>\n",
       "    <tr>\n",
       "      <th>TOYOTA Tundra</th>\n",
       "      <td>-0.050000</td>\n",
       "      <td>0.600000</td>\n",
       "      <td>-0.150000</td>\n",
       "    </tr>\n",
       "    <tr>\n",
       "      <th>CHEVROLET Corvette</th>\n",
       "      <td>-0.250000</td>\n",
       "      <td>-0.250000</td>\n",
       "      <td>-0.250000</td>\n",
       "    </tr>\n",
       "    <tr>\n",
       "      <th>TOYOTA Sequoia</th>\n",
       "      <td>-0.500000</td>\n",
       "      <td>-0.500000</td>\n",
       "      <td>-0.250000</td>\n",
       "    </tr>\n",
       "    <tr>\n",
       "      <th>BMW 750i</th>\n",
       "      <td>-0.500000</td>\n",
       "      <td>0.000000</td>\n",
       "      <td>-0.500000</td>\n",
       "    </tr>\n",
       "    <tr>\n",
       "      <th>MASERATI Granturismo</th>\n",
       "      <td>-1.000000</td>\n",
       "      <td>0.000000</td>\n",
       "      <td>-1.000000</td>\n",
       "    </tr>\n",
       "  </tbody>\n",
       "</table>\n",
       "<p>72 rows × 3 columns</p>\n",
       "</div>"
      ],
      "text/plain": [
       "                         city_mpg    hwy_mpg    cmb_mpg\n",
       "model                                                  \n",
       "VOLVO XC 90             16.933333  15.333333  16.533333\n",
       "CHEVROLET Malibu        12.250000   8.416667  10.666667\n",
       "CHEVROLET Equinox        8.500000   8.666667   8.833333\n",
       "AUDI S4                  7.500000   9.500000   8.500000\n",
       "AUDI S5                  7.000000   9.000000   8.000000\n",
       "VOLKSWAGEN Passat        6.750000   9.250000   7.750000\n",
       "MERCEDES-BENZ C300       7.166667   8.666667   7.666667\n",
       "SUBARU Impreza           6.250000   8.500000   7.250000\n",
       "MAZDA 3                  5.533333   7.266667   6.433333\n",
       "AUDI A6                  5.333333   6.333333   6.000000\n",
       "AUDI Q7                  6.000000   6.500000   6.000000\n",
       "AUDI A4                  6.250000   6.750000   6.000000\n",
       "MAZDA CX-9               5.500000   5.500000   6.000000\n",
       "VOLKSWAGEN Jetta         4.833333   7.000000   5.833333\n",
       "TOYOTA Camry             5.000000   6.750000   5.750000\n",
       "VOLVO S60                4.833333   7.333333   5.666667\n",
       "AUDI A8 L                4.500000   8.000000   5.500000\n",
       "PORSCHE Cayenne S        4.000000   5.000000   5.000000\n",
       "SUBARU Legacy            3.625000   5.375000   4.875000\n",
       "KIA Sorento              4.333333   5.000000   4.666667\n",
       "AUDI TT Roadster         4.000000   4.333333   4.666667\n",
       "AUDI A3                  4.666667   5.333333   4.666667\n",
       "CHRYSLER Pacifica        3.833333   5.666667   4.666667\n",
       "HYUNDAI Sonata           4.916667   5.083333   4.583333\n",
       "FORD F150                3.954545   4.560606   4.545455\n",
       "JEEP Grand Cherokee      3.428571   6.047619   4.523810\n",
       "HONDA Ridgeline          3.500000   5.500000   4.500000\n",
       "AUDI TT Coupe            3.666667   3.666667   4.333333\n",
       "SUBARU Forester          4.166667   3.333333   4.166667\n",
       "DODGE Challenger         2.800000   7.200000   4.000000\n",
       "...                           ...        ...        ...\n",
       "GMC Yukon 1500           2.375000   3.000000   2.875000\n",
       "CADILLAC CTS             2.600000   2.400000   2.800000\n",
       "TOYOTA RAV4              2.750000   2.250000   2.750000\n",
       "KIA Sportage             2.766667   2.566667   2.733333\n",
       "FORD Fusion              2.066667   4.066667   2.666667\n",
       "HYUNDAI Elantra          2.333333   2.500000   2.666667\n",
       "BMW M6 Convertible       2.500000   2.500000   2.500000\n",
       "PORSCHE Boxster          2.166667   0.833333   2.500000\n",
       "GMC Sierra 15            2.050000   1.962500   2.112500\n",
       "TOYOTA Avalon            2.000000   2.000000   2.000000\n",
       "PORSCHE Boxster S        2.500000   1.500000   2.000000\n",
       "KIA Sedona               2.000000   1.000000   2.000000\n",
       "JEEP Compass             0.250000   4.666667   1.583333\n",
       "NISSAN Armada            1.500000   1.000000   1.500000\n",
       "CHEVROLET Silverado 15   0.750000   1.562500   1.312500\n",
       "TOYOTA 4Runner           1.750000   1.250000   1.250000\n",
       "CHRYSLER 300             0.714286   3.057143   1.200000\n",
       "LEXUS LX 570             1.000000   0.000000   1.000000\n",
       "HYUNDAI Santa Fe         0.833333   0.833333   1.000000\n",
       "TOYOTA Corolla           0.666667  -0.666667   1.000000\n",
       "TOYOTA Yaris             1.000000   0.000000   1.000000\n",
       "BMW Alpina B7            1.000000   2.000000   1.000000\n",
       "DODGE Charger            0.500000   2.950000   0.950000\n",
       "CHEVROLET Impala         1.250000  -0.500000   0.750000\n",
       "TOYOTA Land Cruiser      0.000000   0.000000   0.000000\n",
       "TOYOTA Tundra           -0.050000   0.600000  -0.150000\n",
       "CHEVROLET Corvette      -0.250000  -0.250000  -0.250000\n",
       "TOYOTA Sequoia          -0.500000  -0.500000  -0.250000\n",
       "BMW 750i                -0.500000   0.000000  -0.500000\n",
       "MASERATI Granturismo    -1.000000   0.000000  -1.000000\n",
       "\n",
       "[72 rows x 3 columns]"
      ]
     },
     "execution_count": 126,
     "metadata": {},
     "output_type": "execute_result"
    }
   ],
   "source": [
    "df_gb_shared_models_diff.sort_values(by='cmb_mpg', ascending=False)"
   ]
  },
  {
   "cell_type": "code",
   "execution_count": null,
   "metadata": {},
   "outputs": [],
   "source": []
  }
 ],
 "metadata": {
  "kernelspec": {
   "display_name": "Python 3",
   "language": "python",
   "name": "python3"
  },
  "language_info": {
   "codemirror_mode": {
    "name": "ipython",
    "version": 3
   },
   "file_extension": ".py",
   "mimetype": "text/x-python",
   "name": "python",
   "nbconvert_exporter": "python",
   "pygments_lexer": "ipython3",
   "version": "3.6.3"
  }
 },
 "nbformat": 4,
 "nbformat_minor": 2
}
